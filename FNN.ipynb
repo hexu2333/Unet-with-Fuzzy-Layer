{
 "cells": [
  {
   "cell_type": "code",
   "execution_count": 10,
   "metadata": {},
   "outputs": [],
   "source": [
    "import os\n",
    "from PIL import Image \n",
    "import torch\n",
    "from torch.utils.data import Dataset , DataLoader\n",
    "from torchvision import transforms, datasets, utils\n",
    "import numpy as np\n",
    "from tqdm import tqdm\n",
    "import numpy as np\n",
    "import torch \n",
    "import torch.nn as nn\n",
    "import torchvision.transforms.functional as TF \n",
    "import torch.optim as optim\n",
    "import torch.nn.functional as F"
   ]
  },
  {
   "cell_type": "code",
   "execution_count": 11,
   "metadata": {},
   "outputs": [],
   "source": [
    "class CityscapesDataset(Dataset):\n",
    "    def __init__(self, split, root_dir, mode='fine', transform=None, eval=False):\n",
    "        self.transform = transform\n",
    "        if mode == 'fine':\n",
    "            self.mode = 'gtFine'\n",
    "        self.split = split\n",
    "        self.yLabel_list = []\n",
    "        self.XImg_list = []\n",
    "        self.eval = eval\n",
    "\n",
    "        self.label_path = os.path.join(os.getcwd(), root_dir+'\\\\'+self.mode+'\\\\'+self.split)\n",
    "        self.rgb_path = os.path.join(os.getcwd(), root_dir+'\\\\leftImg8bit\\\\'+self.split)\n",
    "        city_list = os.listdir(self.label_path)\n",
    "        for city in city_list:\n",
    "            temp = os.listdir(self.label_path+'/'+city)\n",
    "            list_items = temp.copy()\n",
    "            for item in temp:\n",
    "                if not item.endswith('labelIds.png', 0, len(item)):\n",
    "                    list_items.remove(item)\n",
    "\n",
    "            # defining paths\n",
    "            list_items = ['/'+city+'/'+path for path in list_items]\n",
    "\n",
    "            self.yLabel_list.extend(list_items)\n",
    "            self.XImg_list.extend(\n",
    "                ['/'+city+'/'+path for path in os.listdir(self.rgb_path+'/'+city)]\n",
    "            )\n",
    "                \n",
    "    def __len__(self):\n",
    "        length = len(self.XImg_list)\n",
    "        return length      \n",
    "\n",
    "    def __getitem__(self, index):\n",
    "        image = Image.open(self.rgb_path+self.XImg_list[index])\n",
    "        y = Image.open(self.label_path+self.yLabel_list[index])\n",
    "\n",
    "        if self.transform is not None:\n",
    "            image = self.transform(image)\n",
    "            y = self.transform(y)\n",
    "\n",
    "        image = transforms.ToTensor()(image)\n",
    "        y = np.array(y)\n",
    "        y = torch.from_numpy(y)\n",
    "        y = y.type(torch.LongTensor)\n",
    "        if self.eval:\n",
    "            return image, y, self.XImg_list[index]\n",
    "        else:\n",
    "            return image, y\n",
    "\n",
    "def get_cityscapes_data(mode,split,root_dir='datasets\\cityscapes',transforms=None,batch_size=1,eval=False,shuffle=True,pin_memory=True):\n",
    "    data = CityscapesDataset(\n",
    "        mode=mode, split=split, transform=transforms, root_dir=root_dir, eval=eval)\n",
    "\n",
    "    data_loaded = torch.utils.data.DataLoader(\n",
    "        data, batch_size=batch_size, shuffle=shuffle, pin_memory=pin_memory)\n",
    "\n",
    "    return data_loaded\n",
    "\n",
    "# Functions to save predictions as images \n",
    "def save_as_images(tensor_pred, folder, image_name):\n",
    "    tensor_pred = transforms.ToPILImage()(tensor_pred.byte())\n",
    "    filename = f\"{folder}\\{image_name}.png\"\n",
    "    tensor_pred.save(filename)"
   ]
  },
  {
   "cell_type": "code",
   "execution_count": 12,
   "metadata": {},
   "outputs": [],
   "source": [
    "class UNET(nn.Module):\n",
    "    \n",
    "    def __init__(self, in_channels=3, classes=1):\n",
    "        super(UNET, self).__init__()\n",
    "        self.layers = [in_channels, 64, 128, 256]\n",
    "        self.double_conv_downs = nn.ModuleList(\n",
    "            [self.__double_conv(layer, layer_n) for layer, layer_n in zip(self.layers[:-1], self.layers[1:])]) \n",
    "        self.up_trans = nn.ModuleList(\n",
    "            [nn.ConvTranspose2d(layer, layer_n, kernel_size=2, stride=2)\n",
    "             for layer, layer_n in zip(self.layers[::-1][:-2], self.layers[::-1][1:-1])])\n",
    "        self.double_conv_ups = nn.ModuleList(\n",
    "        [self.__double_conv(layer, layer//2) for layer in self.layers[::-1][:-2]])\n",
    "        self.max_pool_2x2 = nn.MaxPool2d(kernel_size=2, stride=2)\n",
    "        self.final_conv = nn.Conv2d(64, classes, kernel_size=1)\n",
    "    def __double_conv(self, in_channels, out_channels):\n",
    "        conv = nn.Sequential(\n",
    "            nn.Conv2d(in_channels, out_channels, kernel_size=3, padding=1, bias=False),\n",
    "            nn.BatchNorm2d(out_channels),\n",
    "            nn.ReLU(inplace=True),\n",
    "            nn.Conv2d(out_channels, out_channels, kernel_size=3, padding=1),\n",
    "            nn.ReLU(inplace=True)\n",
    "        )\n",
    "        return conv\n",
    "    def forward(self, x):\n",
    "        # down layers\n",
    "        concat_layers = []\n",
    "        \n",
    "        for down in self.double_conv_downs:\n",
    "            x = down(x)\n",
    "            if down != self.double_conv_downs[-1]:\n",
    "                concat_layers.append(x)\n",
    "                x = self.max_pool_2x2(x)\n",
    "        \n",
    "        concat_layers = concat_layers[::-1]\n",
    "        \n",
    "        # up layers\n",
    "        for up_trans, double_conv_up, concat_layer  in zip(self.up_trans, self.double_conv_ups, concat_layers):\n",
    "            x = up_trans(x)\n",
    "            if x.shape != concat_layer.shape:\n",
    "                x = TF.resize(x, concat_layer.shape[2:])\n",
    "            \n",
    "            concatenated = torch.cat((concat_layer, x), dim=1)\n",
    "            x = double_conv_up(concatenated)\n",
    "            \n",
    "        x = self.final_conv(x)\n",
    "        \n",
    "        return x \n"
   ]
  },
  {
   "cell_type": "code",
   "execution_count": 13,
   "metadata": {},
   "outputs": [
    {
     "name": "stdout",
     "output_type": "stream",
     "text": [
      "Running on the GPU\n"
     ]
    }
   ],
   "source": [
    "if torch.cuda.is_available():\n",
    "    DEVICE = 'cuda:0'\n",
    "    print('Running on the GPU')\n",
    "else:\n",
    "    DEVICE = \"cpu\"\n",
    "    print('Running on the CPU')"
   ]
  },
  {
   "cell_type": "code",
   "execution_count": 14,
   "metadata": {},
   "outputs": [],
   "source": [
    "def accuracy_calculation(pred, label):\n",
    "    torch.cuda.empty_cache()\n",
    "    pred_class = torch.argmax(pred, dim=1) \n",
    "    pred_class = pred_class.float()\n",
    "    acc_sum = (pred_class == label).sum()\n",
    "    acc = float(acc_sum) / torch.numel(label)\n",
    "    return acc\n",
    "\n",
    "def acc_epoch(data, model,device):\n",
    "    acc = []\n",
    "    for index, batch in enumerate(data): \n",
    "        if(index < 20):\n",
    "            X, y = batch\n",
    "            X, y = X.to(device), y.to(device)\n",
    "            preds = model(X)\n",
    "            acc_ = accuracy_calculation(preds,y)\n",
    "            acc.append(acc_)\n",
    "        else:\n",
    "            break\n",
    "    return np.mean(acc)\n"
   ]
  },
  {
   "cell_type": "code",
   "execution_count": 35,
   "metadata": {},
   "outputs": [
    {
     "name": "stderr",
     "output_type": "stream",
     "text": [
      "C:\\Users\\ASUS\\AppData\\Local\\Temp\\ipykernel_20236\\506324850.py:9: DeprecationWarning: NEAREST is deprecated and will be removed in Pillow 10 (2023-07-01). Use Resampling.NEAREST or Dither.NONE instead.\n",
      "  transforms.Resize((IMG_HEIGHT, IMG_WIDTH), interpolation=Image.NEAREST),\n"
     ]
    }
   ],
   "source": [
    "ROOT_DIR = \"datasets\\\\cityscapes\"\n",
    "IMG_HEIGHT = 110  \n",
    "IMG_WIDTH = 220  \n",
    "BATCH_SIZE = 32 \n",
    "LEARNING_RATE = 0.0003\n",
    "EPOCHS = 50\n",
    "\n",
    "transform = transforms.Compose([\n",
    "    transforms.Resize((IMG_HEIGHT, IMG_WIDTH), interpolation=Image.NEAREST),\n",
    "]) \n",
    "\n",
    "train_set = get_cityscapes_data(\n",
    "    split='train',\n",
    "    mode='fine',\n",
    "    root_dir=ROOT_DIR,\n",
    "    transforms=transform,\n",
    "    batch_size=BATCH_SIZE,\n",
    ")\n",
    "\n",
    "test_set = get_cityscapes_data(\n",
    "    split='val',\n",
    "    mode='fine',\n",
    "    root_dir=ROOT_DIR,\n",
    "    transforms=transform,\n",
    "    batch_size=16,\n",
    ")"
   ]
  },
  {
   "cell_type": "code",
   "execution_count": 16,
   "metadata": {},
   "outputs": [
    {
     "name": "stdout",
     "output_type": "stream",
     "text": [
      "0.008260717975206614\n"
     ]
    }
   ],
   "source": [
    "unet = UNET(in_channels=3, classes=35).to(DEVICE).train()\n",
    "print(acc_epoch(test_set,unet,DEVICE))"
   ]
  },
  {
   "cell_type": "code",
   "execution_count": 17,
   "metadata": {},
   "outputs": [
    {
     "name": "stdout",
     "output_type": "stream",
     "text": [
      "Epoch: 0\n",
      "Entering into train function\n"
     ]
    },
    {
     "name": "stderr",
     "output_type": "stream",
     "text": [
      "100%|██████████| 93/93 [02:57<00:00,  1.91s/it]\n"
     ]
    },
    {
     "name": "stdout",
     "output_type": "stream",
     "text": [
      "Loss = 1.0940582752227783\n",
      "Acc = 0.05646126033057851\n",
      "Epoch: 1\n",
      "Entering into train function\n"
     ]
    },
    {
     "name": "stderr",
     "output_type": "stream",
     "text": [
      "100%|██████████| 93/93 [02:15<00:00,  1.46s/it]\n"
     ]
    },
    {
     "name": "stdout",
     "output_type": "stream",
     "text": [
      "Loss = 0.893613874912262\n",
      "Acc = 0.06900490702479338\n",
      "Epoch: 2\n",
      "Entering into train function\n"
     ]
    },
    {
     "name": "stderr",
     "output_type": "stream",
     "text": [
      "100%|██████████| 93/93 [02:14<00:00,  1.45s/it]\n"
     ]
    },
    {
     "name": "stdout",
     "output_type": "stream",
     "text": [
      "Loss = 0.633750319480896\n",
      "Acc = 0.07318904958677686\n",
      "Epoch: 3\n",
      "Entering into train function\n"
     ]
    },
    {
     "name": "stderr",
     "output_type": "stream",
     "text": [
      "100%|██████████| 93/93 [02:14<00:00,  1.44s/it]\n"
     ]
    },
    {
     "name": "stdout",
     "output_type": "stream",
     "text": [
      "Loss = 0.645124077796936\n",
      "Acc = 0.0723128873966942\n",
      "Epoch: 4\n",
      "Entering into train function\n"
     ]
    },
    {
     "name": "stderr",
     "output_type": "stream",
     "text": [
      "100%|██████████| 93/93 [02:14<00:00,  1.45s/it]\n"
     ]
    },
    {
     "name": "stdout",
     "output_type": "stream",
     "text": [
      "Loss = 0.6227493286132812\n",
      "Acc = 0.07400051652892561\n",
      "Epoch: 5\n",
      "Entering into train function\n"
     ]
    },
    {
     "name": "stderr",
     "output_type": "stream",
     "text": [
      "100%|██████████| 93/93 [02:13<00:00,  1.44s/it]\n"
     ]
    },
    {
     "name": "stdout",
     "output_type": "stream",
     "text": [
      "Loss = 0.56511390209198\n",
      "Acc = 0.07569641012396693\n",
      "Epoch: 6\n",
      "Entering into train function\n"
     ]
    },
    {
     "name": "stderr",
     "output_type": "stream",
     "text": [
      "100%|██████████| 93/93 [02:14<00:00,  1.45s/it]\n"
     ]
    },
    {
     "name": "stdout",
     "output_type": "stream",
     "text": [
      "Loss = 0.5106911659240723\n",
      "Acc = 0.07617639462809918\n",
      "Epoch: 7\n",
      "Entering into train function\n"
     ]
    },
    {
     "name": "stderr",
     "output_type": "stream",
     "text": [
      "100%|██████████| 93/93 [02:14<00:00,  1.44s/it]\n"
     ]
    },
    {
     "name": "stdout",
     "output_type": "stream",
     "text": [
      "Loss = 0.5916135311126709\n",
      "Acc = 0.07442846074380163\n",
      "Epoch: 8\n",
      "Entering into train function\n"
     ]
    },
    {
     "name": "stderr",
     "output_type": "stream",
     "text": [
      "100%|██████████| 93/93 [02:14<00:00,  1.44s/it]\n"
     ]
    },
    {
     "name": "stdout",
     "output_type": "stream",
     "text": [
      "Loss = 0.5101847648620605\n",
      "Acc = 0.07193853305785124\n",
      "Epoch: 9\n",
      "Entering into train function\n"
     ]
    },
    {
     "name": "stderr",
     "output_type": "stream",
     "text": [
      "100%|██████████| 93/93 [02:14<00:00,  1.44s/it]\n"
     ]
    },
    {
     "name": "stdout",
     "output_type": "stream",
     "text": [
      "Loss = 0.4788539707660675\n",
      "Acc = 0.0754141270661157\n",
      "Epoch: 10\n",
      "Entering into train function\n"
     ]
    },
    {
     "name": "stderr",
     "output_type": "stream",
     "text": [
      "100%|██████████| 93/93 [02:14<00:00,  1.44s/it]\n"
     ]
    },
    {
     "name": "stdout",
     "output_type": "stream",
     "text": [
      "Loss = 0.478542685508728\n",
      "Acc = 0.07381417871900826\n",
      "Epoch: 11\n",
      "Entering into train function\n"
     ]
    },
    {
     "name": "stderr",
     "output_type": "stream",
     "text": [
      "100%|██████████| 93/93 [02:14<00:00,  1.44s/it]\n"
     ]
    },
    {
     "name": "stdout",
     "output_type": "stream",
     "text": [
      "Loss = 0.5519258379936218\n",
      "Acc = 0.07773127582644627\n",
      "Epoch: 12\n",
      "Entering into train function\n"
     ]
    },
    {
     "name": "stderr",
     "output_type": "stream",
     "text": [
      "100%|██████████| 93/93 [02:14<00:00,  1.44s/it]\n"
     ]
    },
    {
     "name": "stdout",
     "output_type": "stream",
     "text": [
      "Loss = 0.4532654583454132\n",
      "Acc = 0.07402001549586779\n",
      "Epoch: 13\n",
      "Entering into train function\n"
     ]
    },
    {
     "name": "stderr",
     "output_type": "stream",
     "text": [
      "100%|██████████| 93/93 [02:14<00:00,  1.44s/it]\n"
     ]
    },
    {
     "name": "stdout",
     "output_type": "stream",
     "text": [
      "Loss = 0.4113130271434784\n",
      "Acc = 0.07553434917355371\n",
      "Epoch: 14\n",
      "Entering into train function\n"
     ]
    },
    {
     "name": "stderr",
     "output_type": "stream",
     "text": [
      "100%|██████████| 93/93 [02:14<00:00,  1.44s/it]\n"
     ]
    },
    {
     "name": "stdout",
     "output_type": "stream",
     "text": [
      "Loss = 0.45621609687805176\n",
      "Acc = 0.07340289256198347\n",
      "Epoch: 15\n",
      "Entering into train function\n"
     ]
    },
    {
     "name": "stderr",
     "output_type": "stream",
     "text": [
      "100%|██████████| 93/93 [02:13<00:00,  1.44s/it]\n"
     ]
    },
    {
     "name": "stdout",
     "output_type": "stream",
     "text": [
      "Loss = 0.37804868817329407\n",
      "Acc = 0.07729700413223141\n",
      "Epoch: 16\n",
      "Entering into train function\n"
     ]
    },
    {
     "name": "stderr",
     "output_type": "stream",
     "text": [
      "100%|██████████| 93/93 [02:13<00:00,  1.44s/it]\n"
     ]
    },
    {
     "name": "stdout",
     "output_type": "stream",
     "text": [
      "Loss = 0.4315967261791229\n",
      "Acc = 0.0743411673553719\n",
      "Epoch: 17\n",
      "Entering into train function\n"
     ]
    },
    {
     "name": "stderr",
     "output_type": "stream",
     "text": [
      "100%|██████████| 93/93 [02:14<00:00,  1.45s/it]\n"
     ]
    },
    {
     "name": "stdout",
     "output_type": "stream",
     "text": [
      "Loss = 0.4710063636302948\n",
      "Acc = 0.07602453512396695\n",
      "Epoch: 18\n",
      "Entering into train function\n"
     ]
    },
    {
     "name": "stderr",
     "output_type": "stream",
     "text": [
      "100%|██████████| 93/93 [02:14<00:00,  1.44s/it]\n"
     ]
    },
    {
     "name": "stdout",
     "output_type": "stream",
     "text": [
      "Loss = 0.4823729991912842\n",
      "Acc = 0.07543194731404959\n",
      "Epoch: 19\n",
      "Entering into train function\n"
     ]
    },
    {
     "name": "stderr",
     "output_type": "stream",
     "text": [
      "100%|██████████| 93/93 [02:14<00:00,  1.44s/it]\n"
     ]
    },
    {
     "name": "stdout",
     "output_type": "stream",
     "text": [
      "Loss = 0.3712191879749298\n",
      "Acc = 0.07673037190082645\n",
      "Epoch: 20\n",
      "Entering into train function\n"
     ]
    },
    {
     "name": "stderr",
     "output_type": "stream",
     "text": [
      "100%|██████████| 93/93 [02:14<00:00,  1.44s/it]\n"
     ]
    },
    {
     "name": "stdout",
     "output_type": "stream",
     "text": [
      "Loss = 0.3979324400424957\n",
      "Acc = 0.07610847107438018\n",
      "Epoch: 21\n",
      "Entering into train function\n"
     ]
    },
    {
     "name": "stderr",
     "output_type": "stream",
     "text": [
      "100%|██████████| 93/93 [02:14<00:00,  1.44s/it]\n"
     ]
    },
    {
     "name": "stdout",
     "output_type": "stream",
     "text": [
      "Loss = 0.3994157016277313\n",
      "Acc = 0.07482902892561982\n",
      "Epoch: 22\n",
      "Entering into train function\n"
     ]
    },
    {
     "name": "stderr",
     "output_type": "stream",
     "text": [
      "100%|██████████| 93/93 [02:13<00:00,  1.44s/it]\n"
     ]
    },
    {
     "name": "stdout",
     "output_type": "stream",
     "text": [
      "Loss = 0.42587167024612427\n",
      "Acc = 0.07411118285123966\n",
      "Epoch: 23\n",
      "Entering into train function\n"
     ]
    },
    {
     "name": "stderr",
     "output_type": "stream",
     "text": [
      "100%|██████████| 93/93 [02:13<00:00,  1.44s/it]\n"
     ]
    },
    {
     "name": "stdout",
     "output_type": "stream",
     "text": [
      "Loss = 0.3639998435974121\n",
      "Acc = 0.0756066632231405\n",
      "Epoch: 24\n",
      "Entering into train function\n"
     ]
    },
    {
     "name": "stderr",
     "output_type": "stream",
     "text": [
      "100%|██████████| 93/93 [02:14<00:00,  1.44s/it]\n"
     ]
    },
    {
     "name": "stdout",
     "output_type": "stream",
     "text": [
      "Loss = 0.38142162561416626\n",
      "Acc = 0.07827802169421488\n",
      "Epoch: 25\n",
      "Entering into train function\n"
     ]
    },
    {
     "name": "stderr",
     "output_type": "stream",
     "text": [
      "100%|██████████| 93/93 [02:13<00:00,  1.44s/it]\n"
     ]
    },
    {
     "name": "stdout",
     "output_type": "stream",
     "text": [
      "Loss = 0.3130786120891571\n",
      "Acc = 0.07470816115702479\n",
      "Epoch: 26\n",
      "Entering into train function\n"
     ]
    },
    {
     "name": "stderr",
     "output_type": "stream",
     "text": [
      "100%|██████████| 93/93 [02:14<00:00,  1.44s/it]\n"
     ]
    },
    {
     "name": "stdout",
     "output_type": "stream",
     "text": [
      "Loss = 0.4603433609008789\n",
      "Acc = 0.07608419421487603\n",
      "Epoch: 27\n",
      "Entering into train function\n"
     ]
    },
    {
     "name": "stderr",
     "output_type": "stream",
     "text": [
      "100%|██████████| 93/93 [02:14<00:00,  1.44s/it]\n"
     ]
    },
    {
     "name": "stdout",
     "output_type": "stream",
     "text": [
      "Loss = 0.2854067385196686\n",
      "Acc = 0.07566296487603305\n",
      "Epoch: 28\n",
      "Entering into train function\n"
     ]
    },
    {
     "name": "stderr",
     "output_type": "stream",
     "text": [
      "100%|██████████| 93/93 [02:13<00:00,  1.44s/it]\n"
     ]
    },
    {
     "name": "stdout",
     "output_type": "stream",
     "text": [
      "Loss = 0.3506024181842804\n",
      "Acc = 0.07667148760330578\n",
      "Epoch: 29\n",
      "Entering into train function\n"
     ]
    },
    {
     "name": "stderr",
     "output_type": "stream",
     "text": [
      "100%|██████████| 93/93 [02:13<00:00,  1.44s/it]\n"
     ]
    },
    {
     "name": "stdout",
     "output_type": "stream",
     "text": [
      "Loss = 0.3274509012699127\n",
      "Acc = 0.07597184917355372\n",
      "Epoch: 30\n",
      "Entering into train function\n"
     ]
    },
    {
     "name": "stderr",
     "output_type": "stream",
     "text": [
      "100%|██████████| 93/93 [02:13<00:00,  1.44s/it]\n"
     ]
    },
    {
     "name": "stdout",
     "output_type": "stream",
     "text": [
      "Loss = 0.3351152241230011\n",
      "Acc = 0.07608032024793389\n",
      "Epoch: 31\n",
      "Entering into train function\n"
     ]
    },
    {
     "name": "stderr",
     "output_type": "stream",
     "text": [
      "100%|██████████| 93/93 [02:14<00:00,  1.44s/it]\n"
     ]
    },
    {
     "name": "stdout",
     "output_type": "stream",
     "text": [
      "Loss = 0.320026695728302\n",
      "Acc = 0.07573631198347107\n",
      "Epoch: 32\n",
      "Entering into train function\n"
     ]
    },
    {
     "name": "stderr",
     "output_type": "stream",
     "text": [
      "100%|██████████| 93/93 [02:14<00:00,  1.44s/it]\n"
     ]
    },
    {
     "name": "stdout",
     "output_type": "stream",
     "text": [
      "Loss = 0.34916362166404724\n",
      "Acc = 0.0768307076446281\n",
      "Epoch: 33\n",
      "Entering into train function\n"
     ]
    },
    {
     "name": "stderr",
     "output_type": "stream",
     "text": [
      "100%|██████████| 93/93 [02:14<00:00,  1.44s/it]\n"
     ]
    },
    {
     "name": "stdout",
     "output_type": "stream",
     "text": [
      "Loss = 0.2864450216293335\n",
      "Acc = 0.0759998708677686\n",
      "Epoch: 34\n",
      "Entering into train function\n"
     ]
    },
    {
     "name": "stderr",
     "output_type": "stream",
     "text": [
      "100%|██████████| 93/93 [02:14<00:00,  1.45s/it]\n"
     ]
    },
    {
     "name": "stdout",
     "output_type": "stream",
     "text": [
      "Loss = 0.2913118302822113\n",
      "Acc = 0.07598618285123966\n",
      "Epoch: 35\n",
      "Entering into train function\n"
     ]
    },
    {
     "name": "stderr",
     "output_type": "stream",
     "text": [
      "100%|██████████| 93/93 [02:14<00:00,  1.44s/it]\n"
     ]
    },
    {
     "name": "stdout",
     "output_type": "stream",
     "text": [
      "Loss = 0.33231332898139954\n",
      "Acc = 0.07570196280991734\n",
      "Epoch: 36\n",
      "Entering into train function\n"
     ]
    },
    {
     "name": "stderr",
     "output_type": "stream",
     "text": [
      "100%|██████████| 93/93 [02:14<00:00,  1.45s/it]\n"
     ]
    },
    {
     "name": "stdout",
     "output_type": "stream",
     "text": [
      "Loss = 0.2907067835330963\n",
      "Acc = 0.07679287190082645\n",
      "Epoch: 37\n",
      "Entering into train function\n"
     ]
    },
    {
     "name": "stderr",
     "output_type": "stream",
     "text": [
      "100%|██████████| 93/93 [02:13<00:00,  1.44s/it]\n"
     ]
    },
    {
     "name": "stdout",
     "output_type": "stream",
     "text": [
      "Loss = 0.3162635862827301\n",
      "Acc = 0.07659736570247933\n",
      "Epoch: 38\n",
      "Entering into train function\n"
     ]
    },
    {
     "name": "stderr",
     "output_type": "stream",
     "text": [
      "100%|██████████| 93/93 [02:13<00:00,  1.44s/it]\n"
     ]
    },
    {
     "name": "stdout",
     "output_type": "stream",
     "text": [
      "Loss = 0.271275132894516\n",
      "Acc = 0.07688985020661157\n",
      "Epoch: 39\n",
      "Entering into train function\n"
     ]
    },
    {
     "name": "stderr",
     "output_type": "stream",
     "text": [
      "100%|██████████| 93/93 [02:13<00:00,  1.44s/it]\n"
     ]
    },
    {
     "name": "stdout",
     "output_type": "stream",
     "text": [
      "Loss = 0.3032415807247162\n",
      "Acc = 0.07796629648760331\n",
      "Epoch: 40\n",
      "Entering into train function\n"
     ]
    },
    {
     "name": "stderr",
     "output_type": "stream",
     "text": [
      "100%|██████████| 93/93 [02:13<00:00,  1.44s/it]\n"
     ]
    },
    {
     "name": "stdout",
     "output_type": "stream",
     "text": [
      "Loss = 0.31106072664260864\n",
      "Acc = 0.07782450929752067\n",
      "Epoch: 41\n",
      "Entering into train function\n"
     ]
    },
    {
     "name": "stderr",
     "output_type": "stream",
     "text": [
      "100%|██████████| 93/93 [02:13<00:00,  1.44s/it]\n"
     ]
    },
    {
     "name": "stdout",
     "output_type": "stream",
     "text": [
      "Loss = 0.25589120388031006\n",
      "Acc = 0.07795609504132231\n",
      "Epoch: 42\n",
      "Entering into train function\n"
     ]
    },
    {
     "name": "stderr",
     "output_type": "stream",
     "text": [
      "100%|██████████| 93/93 [02:14<00:00,  1.44s/it]\n"
     ]
    },
    {
     "name": "stdout",
     "output_type": "stream",
     "text": [
      "Loss = 0.3056127429008484\n",
      "Acc = 0.07688184400826446\n",
      "Epoch: 43\n",
      "Entering into train function\n"
     ]
    },
    {
     "name": "stderr",
     "output_type": "stream",
     "text": [
      "100%|██████████| 93/93 [02:13<00:00,  1.44s/it]\n"
     ]
    },
    {
     "name": "stdout",
     "output_type": "stream",
     "text": [
      "Loss = 0.2566012740135193\n",
      "Acc = 0.07883742252066117\n",
      "Epoch: 44\n",
      "Entering into train function\n"
     ]
    },
    {
     "name": "stderr",
     "output_type": "stream",
     "text": [
      "100%|██████████| 93/93 [02:14<00:00,  1.44s/it]\n"
     ]
    },
    {
     "name": "stdout",
     "output_type": "stream",
     "text": [
      "Loss = 0.25218498706817627\n",
      "Acc = 0.07687913223140497\n",
      "Epoch: 45\n",
      "Entering into train function\n"
     ]
    },
    {
     "name": "stderr",
     "output_type": "stream",
     "text": [
      "100%|██████████| 93/93 [02:14<00:00,  1.44s/it]\n"
     ]
    },
    {
     "name": "stdout",
     "output_type": "stream",
     "text": [
      "Loss = 0.24356429278850555\n",
      "Acc = 0.07529235537190083\n",
      "Epoch: 46\n",
      "Entering into train function\n"
     ]
    },
    {
     "name": "stderr",
     "output_type": "stream",
     "text": [
      "100%|██████████| 93/93 [02:14<00:00,  1.45s/it]\n"
     ]
    },
    {
     "name": "stdout",
     "output_type": "stream",
     "text": [
      "Loss = 0.25636422634124756\n",
      "Acc = 0.07532528409090908\n",
      "Epoch: 47\n",
      "Entering into train function\n"
     ]
    },
    {
     "name": "stderr",
     "output_type": "stream",
     "text": [
      "100%|██████████| 93/93 [02:14<00:00,  1.45s/it]\n"
     ]
    },
    {
     "name": "stdout",
     "output_type": "stream",
     "text": [
      "Loss = 0.3065778315067291\n",
      "Acc = 0.07734581611570249\n",
      "Epoch: 48\n",
      "Entering into train function\n"
     ]
    },
    {
     "name": "stderr",
     "output_type": "stream",
     "text": [
      "100%|██████████| 93/93 [02:14<00:00,  1.45s/it]\n"
     ]
    },
    {
     "name": "stdout",
     "output_type": "stream",
     "text": [
      "Loss = 0.23653779923915863\n",
      "Acc = 0.07732605888429753\n",
      "Epoch: 49\n",
      "Entering into train function\n"
     ]
    },
    {
     "name": "stderr",
     "output_type": "stream",
     "text": [
      "100%|██████████| 93/93 [02:14<00:00,  1.45s/it]\n"
     ]
    },
    {
     "name": "stdout",
     "output_type": "stream",
     "text": [
      "Loss = 0.23313070833683014\n",
      "Acc = 0.07697494834710743\n"
     ]
    }
   ],
   "source": [
    "def train_function(data, model, optimizer, loss_fn, device):\n",
    "    print('Entering into train function')\n",
    "    loss_values = []\n",
    "    data = tqdm(data)\n",
    "    for index, batch in enumerate(data): \n",
    "        X, y = batch\n",
    "        X, y = X.to(device), y.to(device)\n",
    "        preds = model(X)\n",
    "        loss = loss_fn(preds, y)\n",
    "        optimizer.zero_grad()\n",
    "        loss.backward()\n",
    "        optimizer.step()\n",
    "    return loss.item()\n",
    "\n",
    "LOSS_VALS = []\n",
    "ACC_VALS = []\n",
    "\n",
    "unet = UNET(in_channels=3, classes=35).to(DEVICE).train()\n",
    "optimizer = optim.Adam(unet.parameters(), lr=LEARNING_RATE)\n",
    "loss_function = nn.CrossEntropyLoss().to(DEVICE)\n",
    "\n",
    "for e in range(0, EPOCHS):\n",
    "    torch.cuda.empty_cache()\n",
    "    print(f'Epoch: {e}')\n",
    "    loss_val = train_function(train_set, unet, optimizer, loss_function, DEVICE)\n",
    "    LOSS_VALS.append(loss_val) \n",
    "    print(f'Loss = {loss_val}')\n",
    "    torch.cuda.empty_cache()\n",
    "    acc = acc_epoch(test_set, unet, DEVICE)\n",
    "    ACC_VALS.append(acc)\n",
    "    print(f'Acc = {acc}')"
   ]
  },
  {
   "cell_type": "code",
   "execution_count": 37,
   "metadata": {},
   "outputs": [
    {
     "name": "stderr",
     "output_type": "stream",
     "text": [
      "c:\\Users\\ASUS\\.conda\\envs\\pytorch\\lib\\site-packages\\torchvision\\transforms\\functional.py:1603: UserWarning: The default value of the antialias parameter of all the resizing transforms (Resize(), RandomResizedCrop(), etc.) will change from None to True in v0.17, in order to be consistent across the PIL and Tensor backends. To suppress this warning, directly pass antialias=True (recommended, future default), antialias=None (current default, which means False for Tensors and True for PIL), or antialias=False (only works on Tensors - PIL will still use antialiasing). This also applies if you are using the inference transforms from the models weights: update the call to weights.transforms(antialias=True).\n",
      "  warnings.warn(\n"
     ]
    },
    {
     "data": {
      "text/plain": [
       "0.8438272210743802"
      ]
     },
     "execution_count": 37,
     "metadata": {},
     "output_type": "execute_result"
    }
   ],
   "source": [
    "def accuracy_calculation(pred, label):\n",
    "    torch.cuda.empty_cache()\n",
    "    pred_class = torch.argmax(pred, dim=1) \n",
    "    pred_class = pred_class.float()\n",
    "    acc_sum = (pred_class == label).sum()\n",
    "    acc = float(acc_sum) / torch.numel(label)\n",
    "    return acc\n",
    "\n",
    "def acc_epoch(data, model,device):\n",
    "    acc = []\n",
    "    for index, batch in enumerate(data): \n",
    "        if(index < 20):\n",
    "            X, y = batch\n",
    "            X, y = X.to(device), y.to(device)\n",
    "            preds = model(X)\n",
    "            acc_ = accuracy_calculation(preds,y)\n",
    "            acc.append(acc_)\n",
    "        else:\n",
    "            break\n",
    "    return np.mean(acc)\n"
   ]
  }
 ],
 "metadata": {
  "kernelspec": {
   "display_name": "pytorch",
   "language": "python",
   "name": "python3"
  },
  "language_info": {
   "codemirror_mode": {
    "name": "ipython",
    "version": 3
   },
   "file_extension": ".py",
   "mimetype": "text/x-python",
   "name": "python",
   "nbconvert_exporter": "python",
   "pygments_lexer": "ipython3",
   "version": "3.9.17"
  },
  "orig_nbformat": 4
 },
 "nbformat": 4,
 "nbformat_minor": 2
}
