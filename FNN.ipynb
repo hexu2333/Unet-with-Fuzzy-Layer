{
 "cells": [
  {
   "cell_type": "code",
   "execution_count": 1,
   "metadata": {},
   "outputs": [],
   "source": [
    "import os\n",
    "from PIL import Image \n",
    "import torch\n",
    "from torch.utils.data import Dataset , DataLoader\n",
    "from torchvision import transforms, datasets, utils\n",
    "import numpy as np\n",
    "from tqdm import tqdm\n",
    "import numpy as np\n",
    "import torch.nn as nn\n",
    "import torchvision.transforms.functional as TF \n",
    "import torch.optim as optim\n",
    "import torch.nn.functional as F\n",
    "import pickle\n",
    "import itertools"
   ]
  },
  {
   "cell_type": "code",
   "execution_count": 2,
   "metadata": {},
   "outputs": [],
   "source": [
    "def save_variable(a,name):\n",
    "    with open(name, 'wb') as f:\n",
    "        pickle.dump(a, f)\n",
    "\n",
    "def load_variable(name):\n",
    "    with open(name, 'rb') as f:\n",
    "        return pickle.load(f)"
   ]
  },
  {
   "cell_type": "code",
   "execution_count": 3,
   "metadata": {},
   "outputs": [],
   "source": [
    "class CityscapesDataset(Dataset):\n",
    "    def __init__(self, split, root_dir, mode='fine', transform=None, eval=False):\n",
    "        self.transform = transform\n",
    "        if mode == 'fine':\n",
    "            self.mode = 'gtFine'\n",
    "        self.split = split\n",
    "        self.yLabel_list = []\n",
    "        self.XImg_list = []\n",
    "        self.eval = eval\n",
    "\n",
    "        self.label_path = os.path.join(os.getcwd(), root_dir+'\\\\'+self.mode+'\\\\'+self.split)\n",
    "        self.rgb_path = os.path.join(os.getcwd(), root_dir+'\\\\leftImg8bit\\\\'+self.split)\n",
    "        city_list = os.listdir(self.label_path)\n",
    "        for city in city_list:\n",
    "            temp = os.listdir(self.label_path+'/'+city)\n",
    "            list_items = temp.copy()\n",
    "            for item in temp:\n",
    "                if not item.endswith('labelIds.png', 0, len(item)):\n",
    "                    list_items.remove(item)\n",
    "\n",
    "            # defining paths\n",
    "            list_items = ['/'+city+'/'+path for path in list_items]\n",
    "\n",
    "            self.yLabel_list.extend(list_items)\n",
    "            self.XImg_list.extend(\n",
    "                ['/'+city+'/'+path for path in os.listdir(self.rgb_path+'/'+city)]\n",
    "            )\n",
    "                \n",
    "    def __len__(self):\n",
    "        length = len(self.XImg_list)\n",
    "        return length      \n",
    "\n",
    "    def __getitem__(self, index):\n",
    "        image = Image.open(self.rgb_path+self.XImg_list[index])\n",
    "        y = Image.open(self.label_path+self.yLabel_list[index])\n",
    "\n",
    "        if self.transform is not None:\n",
    "            image = self.transform(image)\n",
    "            y = self.transform(y)\n",
    "\n",
    "        image = transforms.ToTensor()(image)\n",
    "        y = np.array(y)\n",
    "        y = torch.from_numpy(y)\n",
    "        y = y.type(torch.LongTensor)\n",
    "        if self.eval:\n",
    "            return image, y, self.XImg_list[index]\n",
    "        else:\n",
    "            return image, y\n",
    "\n",
    "def get_cityscapes_data(mode,split,root_dir='datasets\\cityscapes',transforms=None,batch_size=1,eval=False,shuffle=True,pin_memory=True):\n",
    "    data = CityscapesDataset(\n",
    "        mode=mode, split=split, transform=transforms, root_dir=root_dir, eval=eval)\n",
    "\n",
    "    data_loaded = torch.utils.data.DataLoader(\n",
    "        data, batch_size=batch_size, shuffle=shuffle, pin_memory=pin_memory)\n",
    "\n",
    "    return data_loaded\n",
    "\n",
    "# Functions to save predictions as images \n",
    "def save_as_images(tensor_pred, folder, image_name):\n",
    "    tensor_pred = transforms.ToPILImage()(tensor_pred.byte())\n",
    "    filename = f\"{folder}\\{image_name}.png\"\n",
    "    tensor_pred.save(filename)"
   ]
  },
  {
   "cell_type": "code",
   "execution_count": 4,
   "metadata": {},
   "outputs": [],
   "source": [
    "class FuzzyLayer(nn.Module):\n",
    "\tdef __init__(self, fuzzynum,channel, mu, sigma,static = False):\n",
    "\t\tsuper(FuzzyLayer,self).__init__()\n",
    "\t\tself.n = fuzzynum\n",
    "\t\tself.channel = channel\n",
    "\t\tself.conv1 = nn.Conv2d(self.channel,1,3,padding=1)\n",
    "\t\tself.conv2 = nn.Conv2d(1,self.channel,3,padding=1)\n",
    "\t\tif not static:\n",
    "\t\t\tself.mu = nn.Parameter(torch.randn((self.channel,self.n,6,13)))\n",
    "\t\t\tself.sigma = nn.Parameter(torch.randn((self.channel,self.n,6,13)))\n",
    "\t\telse:\n",
    "\t\t\tself.mu = mu\n",
    "\t\t\tself.sigma = sigma\n",
    "\t\tself.weight = range(10,10*(self.n + 1),10)\t\n",
    "\t\tself.bn1 = nn.BatchNorm2d(1, affine=True)\t\n",
    "\t\tself.bn2 = nn.BatchNorm2d(self.channel,affine=True)\n",
    "\n",
    "\tdef forward(self, x):\n",
    "\t\tx = self.conv1(x)\n",
    "\t\ttmp = torch.tensor(np.zeros((x.size()[0],x.size()[1],x.size()[2],x.size()[3])),dtype = torch.float).cuda()\n",
    "\t\tfor num,channel,w,h in itertools.product(range(x.size()[0]),range(x.size()[1]),range(x.size()[2]),range(x.size()[3])):\n",
    "\t\t\tfor f in range(self.n):\n",
    "\t\t\t\ttmp[num][channel][w][h] += self.weight[f] * torch.exp(-((x[num][channel][w][h]-self.mu[channel][f][w][h])/(np.sqrt(2) * self.sigma[channel][f][w][h]))**2)\n",
    "\t\tfuzzy = self.bn2(self.conv2(self.bn1(tmp)))\n",
    "\t\treturn fuzzy\t"
   ]
  },
  {
   "cell_type": "code",
   "execution_count": 5,
   "metadata": {},
   "outputs": [],
   "source": [
    "class Fuzzy_UNET(nn.Module):\n",
    "    \n",
    "    def __init__(self, mu, sigma, in_channels=3, classes=1, static = False, fuzzy = False):\n",
    "        super(Fuzzy_UNET, self).__init__()\n",
    "        self.layers = [in_channels, 64, 128, 256]\n",
    "        self.double_conv_downs = nn.ModuleList(\n",
    "            [self.__double_conv(layer, layer_n) for layer, layer_n in zip(self.layers[:-1], self.layers[1:])]) \n",
    "        self.up_trans = nn.ModuleList(\n",
    "            [nn.ConvTranspose2d(layer, layer_n, kernel_size=2, stride=2)\n",
    "             for layer, layer_n in zip(self.layers[::-1][:-2], self.layers[::-1][1:-1])])\n",
    "        self.double_conv_ups = nn.ModuleList(\n",
    "        [self.__double_conv(layer, layer//2) for layer in self.layers[::-1][:-2]])\n",
    "        self.max_pool_2x2 = nn.MaxPool2d(kernel_size=2, stride=2)\n",
    "        self.final_conv = nn.Conv2d(64, classes, kernel_size=1)\n",
    "        self.fuzzy = FuzzyLayer(fuzzynum=4,channel=self.layers[-1], mu = mu, sigma = sigma, static = static)\n",
    "        self.f = fuzzy\n",
    "\n",
    "\n",
    "    def __double_conv(self, in_channels, out_channels):\n",
    "        conv = nn.Sequential(\n",
    "            nn.Conv2d(in_channels, out_channels, kernel_size=3, padding=1, bias=False),\n",
    "            nn.BatchNorm2d(out_channels),\n",
    "            nn.ReLU(inplace=True),\n",
    "            nn.Conv2d(out_channels, out_channels, kernel_size=3, padding=1),\n",
    "            nn.ReLU(inplace=True)\n",
    "        )\n",
    "        return conv\n",
    "    \n",
    "    def forward(self, x):\n",
    "        # down layers\n",
    "        concat_layers = []\n",
    "        for down in self.double_conv_downs:\n",
    "            x = down(x)\n",
    "            if down != self.double_conv_downs[-1]:\n",
    "                concat_layers.append(x)\n",
    "                x = self.max_pool_2x2(x)\n",
    "                \n",
    "        x = self.max_pool_2x2(x)\n",
    "        if self.f:\n",
    "            x = self.max_pool_2x2(x)\n",
    "            x = self.fuzzy(x)\n",
    "        \n",
    "        concat_layers = concat_layers[::-1]\n",
    "        \n",
    "        # up layers\n",
    "        for up_trans, double_conv_up, concat_layer  in zip(self.up_trans, self.double_conv_ups, concat_layers):\n",
    "            x = up_trans(x)\n",
    "            if x.shape != concat_layer.shape:\n",
    "                x = TF.resize(x, concat_layer.shape[2:])\n",
    "            \n",
    "            concatenated = torch.cat((concat_layer, x), dim=1)\n",
    "            x = double_conv_up(concatenated)\n",
    "            \n",
    "        x = self.final_conv(x)\n",
    "        \n",
    "        return x \n"
   ]
  },
  {
   "cell_type": "code",
   "execution_count": 6,
   "metadata": {},
   "outputs": [
    {
     "name": "stdout",
     "output_type": "stream",
     "text": [
      "Running on the GPU\n"
     ]
    }
   ],
   "source": [
    "if torch.cuda.is_available():\n",
    "    DEVICE = 'cuda:0'\n",
    "    print('Running on the GPU')\n",
    "else:\n",
    "    DEVICE = \"cpu\"\n",
    "    print('Running on the CPU')"
   ]
  },
  {
   "cell_type": "code",
   "execution_count": 7,
   "metadata": {},
   "outputs": [],
   "source": [
    "def accuracy_calculation(pred, label):\n",
    "    torch.cuda.empty_cache()\n",
    "    pred_class = torch.argmax(pred, dim=1) \n",
    "    pred_class = pred_class.float()\n",
    "    acc_sum = (pred_class == label).sum()\n",
    "    acc = float(acc_sum) / torch.numel(label)\n",
    "    return acc\n",
    "\n",
    "def acc_epoch(data, model,device):\n",
    "    acc = []\n",
    "    for index, batch in enumerate(data): \n",
    "        X, y = batch\n",
    "        X, y = X.to(device), y.to(device)\n",
    "        preds = model(X)\n",
    "        acc_ = accuracy_calculation(preds,y)\n",
    "        acc.append(acc_)\n",
    "    return np.mean(acc)\n"
   ]
  },
  {
   "cell_type": "code",
   "execution_count": 8,
   "metadata": {},
   "outputs": [
    {
     "name": "stderr",
     "output_type": "stream",
     "text": [
      "C:\\Users\\ASUS\\AppData\\Local\\Temp\\ipykernel_28072\\3372100886.py:9: DeprecationWarning: NEAREST is deprecated and will be removed in Pillow 10 (2023-07-01). Use Resampling.NEAREST or Dither.NONE instead.\n",
      "  transforms.Resize((IMG_HEIGHT, IMG_WIDTH), interpolation=Image.NEAREST),\n"
     ]
    }
   ],
   "source": [
    "ROOT_DIR = \"datasets\\\\cityscapes\"\n",
    "IMG_HEIGHT = 110  \n",
    "IMG_WIDTH = 220  \n",
    "BATCH_SIZE = 32 \n",
    "LEARNING_RATE = 0.0003\n",
    "EPOCHS = 50\n",
    "\n",
    "transform = transforms.Compose([\n",
    "    transforms.Resize((IMG_HEIGHT, IMG_WIDTH), interpolation=Image.NEAREST),\n",
    "]) \n",
    "\n",
    "train_set = get_cityscapes_data(\n",
    "    split='train',\n",
    "    mode='fine',\n",
    "    root_dir=ROOT_DIR,\n",
    "    transforms=transform,\n",
    "    batch_size=BATCH_SIZE,\n",
    ")\n",
    "\n",
    "test_set = get_cityscapes_data(\n",
    "    split='val',\n",
    "    mode='fine',\n",
    "    root_dir=ROOT_DIR,\n",
    "    transforms=transform,\n",
    "    batch_size=16,\n",
    ")\n",
    "\n",
    "def train_function(data, model, optimizer, loss_fn, device):\n",
    "    print('Entering into train function')\n",
    "    loss_values = []\n",
    "    data = tqdm(data)\n",
    "    for index, batch in enumerate(data): \n",
    "        X, y = batch\n",
    "        X, y = X.to(device), y.to(device)\n",
    "        preds = model(X)\n",
    "        loss = loss_fn(preds, y)\n",
    "        optimizer.zero_grad()\n",
    "        loss.backward()\n",
    "        optimizer.step()\n",
    "    return loss.item()"
   ]
  },
  {
   "cell_type": "code",
   "execution_count": 9,
   "metadata": {},
   "outputs": [
    {
     "name": "stdout",
     "output_type": "stream",
     "text": [
      "Epoch: 0\n",
      "Entering into train function\n"
     ]
    },
    {
     "name": "stderr",
     "output_type": "stream",
     "text": [
      "  0%|          | 0/93 [00:00<?, ?it/s]c:\\Users\\ASUS\\.conda\\envs\\pytorch\\lib\\site-packages\\torchvision\\transforms\\functional.py:1603: UserWarning: The default value of the antialias parameter of all the resizing transforms (Resize(), RandomResizedCrop(), etc.) will change from None to True in v0.17, in order to be consistent across the PIL and Tensor backends. To suppress this warning, directly pass antialias=True (recommended, future default), antialias=None (current default, which means False for Tensors and True for PIL), or antialias=False (only works on Tensors - PIL will still use antialiasing). This also applies if you are using the inference transforms from the models weights: update the call to weights.transforms(antialias=True).\n",
      "  warnings.warn(\n",
      "100%|██████████| 93/93 [14:43<00:00,  9.50s/it]\n"
     ]
    },
    {
     "name": "stdout",
     "output_type": "stream",
     "text": [
      "Loss = 0.9830297827720642\n",
      "Acc = 0.7315295712809917\n",
      "Epoch: 1\n",
      "Entering into train function\n"
     ]
    },
    {
     "name": "stderr",
     "output_type": "stream",
     "text": [
      "100%|██████████| 93/93 [12:15<00:00,  7.91s/it]\n"
     ]
    },
    {
     "name": "stdout",
     "output_type": "stream",
     "text": [
      "Loss = 0.8877419233322144\n",
      "Acc = 0.7788714650051654\n",
      "Epoch: 2\n",
      "Entering into train function\n"
     ]
    },
    {
     "name": "stderr",
     "output_type": "stream",
     "text": [
      "100%|██████████| 93/93 [12:15<00:00,  7.91s/it]\n"
     ]
    },
    {
     "name": "stdout",
     "output_type": "stream",
     "text": [
      "Loss = 0.7258073687553406\n",
      "Acc = 0.7934044098657025\n",
      "Epoch: 3\n",
      "Entering into train function\n"
     ]
    },
    {
     "name": "stderr",
     "output_type": "stream",
     "text": [
      "100%|██████████| 93/93 [12:14<00:00,  7.90s/it]\n"
     ]
    },
    {
     "name": "stdout",
     "output_type": "stream",
     "text": [
      "Loss = 0.6938217878341675\n",
      "Acc = 0.7979471203512396\n",
      "Epoch: 4\n",
      "Entering into train function\n"
     ]
    },
    {
     "name": "stderr",
     "output_type": "stream",
     "text": [
      "100%|██████████| 93/93 [12:15<00:00,  7.90s/it]\n"
     ]
    },
    {
     "name": "stdout",
     "output_type": "stream",
     "text": [
      "Loss = 0.678350567817688\n",
      "Acc = 0.8065276342975206\n",
      "Epoch: 5\n",
      "Entering into train function\n"
     ]
    },
    {
     "name": "stderr",
     "output_type": "stream",
     "text": [
      "100%|██████████| 93/93 [12:18<00:00,  7.94s/it]\n"
     ]
    },
    {
     "name": "stdout",
     "output_type": "stream",
     "text": [
      "Loss = 0.6140825152397156\n",
      "Acc = 0.8153483341942149\n",
      "Epoch: 6\n",
      "Entering into train function\n"
     ]
    },
    {
     "name": "stderr",
     "output_type": "stream",
     "text": [
      "100%|██████████| 93/93 [12:18<00:00,  7.94s/it]\n"
     ]
    },
    {
     "name": "stdout",
     "output_type": "stream",
     "text": [
      "Loss = 0.541427731513977\n",
      "Acc = 0.8103643143078513\n",
      "Epoch: 7\n",
      "Entering into train function\n"
     ]
    },
    {
     "name": "stderr",
     "output_type": "stream",
     "text": [
      "100%|██████████| 93/93 [12:14<00:00,  7.89s/it]\n"
     ]
    },
    {
     "name": "stdout",
     "output_type": "stream",
     "text": [
      "Loss = 0.49845150113105774\n",
      "Acc = 0.8184451672262396\n",
      "Epoch: 8\n",
      "Entering into train function\n"
     ]
    },
    {
     "name": "stderr",
     "output_type": "stream",
     "text": [
      "100%|██████████| 93/93 [12:14<00:00,  7.90s/it]\n"
     ]
    },
    {
     "name": "stdout",
     "output_type": "stream",
     "text": [
      "Loss = 0.6432481408119202\n",
      "Acc = 0.8176292129390496\n",
      "Epoch: 9\n",
      "Entering into train function\n"
     ]
    },
    {
     "name": "stderr",
     "output_type": "stream",
     "text": [
      "100%|██████████| 93/93 [12:16<00:00,  7.92s/it]\n"
     ]
    },
    {
     "name": "stdout",
     "output_type": "stream",
     "text": [
      "Loss = 0.5191582441329956\n",
      "Acc = 0.8293289966425621\n",
      "Epoch: 10\n",
      "Entering into train function\n"
     ]
    },
    {
     "name": "stderr",
     "output_type": "stream",
     "text": [
      "100%|██████████| 93/93 [12:13<00:00,  7.89s/it]\n"
     ]
    },
    {
     "name": "stdout",
     "output_type": "stream",
     "text": [
      "Loss = 0.6112388372421265\n",
      "Acc = 0.8268272210743801\n",
      "Epoch: 11\n",
      "Entering into train function\n"
     ]
    },
    {
     "name": "stderr",
     "output_type": "stream",
     "text": [
      "100%|██████████| 93/93 [12:20<00:00,  7.96s/it]\n"
     ]
    },
    {
     "name": "stdout",
     "output_type": "stream",
     "text": [
      "Loss = 0.5472810864448547\n",
      "Acc = 0.8285390302169422\n",
      "Epoch: 12\n",
      "Entering into train function\n"
     ]
    },
    {
     "name": "stderr",
     "output_type": "stream",
     "text": [
      "100%|██████████| 93/93 [12:15<00:00,  7.91s/it]\n"
     ]
    },
    {
     "name": "stdout",
     "output_type": "stream",
     "text": [
      "Loss = 0.45748355984687805\n",
      "Acc = 0.8337894660382232\n",
      "Epoch: 13\n",
      "Entering into train function\n"
     ]
    },
    {
     "name": "stderr",
     "output_type": "stream",
     "text": [
      "100%|██████████| 93/93 [12:13<00:00,  7.89s/it]\n"
     ]
    },
    {
     "name": "stdout",
     "output_type": "stream",
     "text": [
      "Loss = 0.6775178909301758\n",
      "Acc = 0.7923671552169421\n",
      "Epoch: 14\n",
      "Entering into train function\n"
     ]
    },
    {
     "name": "stderr",
     "output_type": "stream",
     "text": [
      "100%|██████████| 93/93 [12:21<00:00,  7.97s/it]\n"
     ]
    },
    {
     "name": "stdout",
     "output_type": "stream",
     "text": [
      "Loss = 0.5578784942626953\n",
      "Acc = 0.8325288126291323\n",
      "Epoch: 15\n",
      "Entering into train function\n"
     ]
    },
    {
     "name": "stderr",
     "output_type": "stream",
     "text": [
      "100%|██████████| 93/93 [12:12<00:00,  7.88s/it]\n"
     ]
    },
    {
     "name": "stdout",
     "output_type": "stream",
     "text": [
      "Loss = 0.4503972828388214\n",
      "Acc = 0.835650180785124\n",
      "Epoch: 16\n",
      "Entering into train function\n"
     ]
    },
    {
     "name": "stderr",
     "output_type": "stream",
     "text": [
      "100%|██████████| 93/93 [12:19<00:00,  7.96s/it]\n"
     ]
    },
    {
     "name": "stdout",
     "output_type": "stream",
     "text": [
      "Loss = 0.5257447361946106\n",
      "Acc = 0.8384572733729339\n",
      "Epoch: 17\n",
      "Entering into train function\n"
     ]
    },
    {
     "name": "stderr",
     "output_type": "stream",
     "text": [
      "100%|██████████| 93/93 [12:13<00:00,  7.89s/it]\n"
     ]
    },
    {
     "name": "stdout",
     "output_type": "stream",
     "text": [
      "Loss = 0.5556102395057678\n",
      "Acc = 0.8396604629390496\n",
      "Epoch: 18\n",
      "Entering into train function\n"
     ]
    },
    {
     "name": "stderr",
     "output_type": "stream",
     "text": [
      "100%|██████████| 93/93 [12:13<00:00,  7.89s/it]\n"
     ]
    },
    {
     "name": "stdout",
     "output_type": "stream",
     "text": [
      "Loss = 0.5479447841644287\n",
      "Acc = 0.8383283025568182\n",
      "Epoch: 19\n",
      "Entering into train function\n"
     ]
    },
    {
     "name": "stderr",
     "output_type": "stream",
     "text": [
      "100%|██████████| 93/93 [12:16<00:00,  7.92s/it]\n"
     ]
    },
    {
     "name": "stdout",
     "output_type": "stream",
     "text": [
      "Loss = 0.5545976161956787\n",
      "Acc = 0.839710259555785\n",
      "Epoch: 20\n",
      "Entering into train function\n"
     ]
    },
    {
     "name": "stderr",
     "output_type": "stream",
     "text": [
      "100%|██████████| 93/93 [12:15<00:00,  7.91s/it]\n"
     ]
    },
    {
     "name": "stdout",
     "output_type": "stream",
     "text": [
      "Loss = 0.51969975233078\n",
      "Acc = 0.8321234988378099\n",
      "Epoch: 21\n",
      "Entering into train function\n"
     ]
    },
    {
     "name": "stderr",
     "output_type": "stream",
     "text": [
      "100%|██████████| 93/93 [12:15<00:00,  7.91s/it]\n"
     ]
    },
    {
     "name": "stdout",
     "output_type": "stream",
     "text": [
      "Loss = 0.46446967124938965\n",
      "Acc = 0.8394111570247933\n",
      "Epoch: 22\n",
      "Entering into train function\n"
     ]
    },
    {
     "name": "stderr",
     "output_type": "stream",
     "text": [
      "100%|██████████| 93/93 [12:12<00:00,  7.88s/it]\n"
     ]
    },
    {
     "name": "stdout",
     "output_type": "stream",
     "text": [
      "Loss = 0.5353295803070068\n",
      "Acc = 0.8348855565599174\n",
      "Epoch: 23\n",
      "Entering into train function\n"
     ]
    },
    {
     "name": "stderr",
     "output_type": "stream",
     "text": [
      "100%|██████████| 93/93 [12:16<00:00,  7.92s/it]\n"
     ]
    },
    {
     "name": "stdout",
     "output_type": "stream",
     "text": [
      "Loss = 0.4502638876438141\n",
      "Acc = 0.8438432980371902\n",
      "Epoch: 24\n",
      "Entering into train function\n"
     ]
    },
    {
     "name": "stderr",
     "output_type": "stream",
     "text": [
      "100%|██████████| 93/93 [12:13<00:00,  7.89s/it]\n"
     ]
    },
    {
     "name": "stdout",
     "output_type": "stream",
     "text": [
      "Loss = 0.44197094440460205\n",
      "Acc = 0.8411600109762396\n",
      "Epoch: 25\n",
      "Entering into train function\n"
     ]
    },
    {
     "name": "stderr",
     "output_type": "stream",
     "text": [
      "100%|██████████| 93/93 [12:22<00:00,  7.98s/it]\n"
     ]
    },
    {
     "name": "stdout",
     "output_type": "stream",
     "text": [
      "Loss = 0.4570598304271698\n",
      "Acc = 0.8394615993026859\n",
      "Epoch: 26\n",
      "Entering into train function\n"
     ]
    },
    {
     "name": "stderr",
     "output_type": "stream",
     "text": [
      "100%|██████████| 93/93 [12:13<00:00,  7.88s/it]\n"
     ]
    },
    {
     "name": "stdout",
     "output_type": "stream",
     "text": [
      "Loss = 0.5248688459396362\n",
      "Acc = 0.8348686079545454\n",
      "Epoch: 27\n",
      "Entering into train function\n"
     ]
    },
    {
     "name": "stderr",
     "output_type": "stream",
     "text": [
      "100%|██████████| 93/93 [12:15<00:00,  7.91s/it]\n"
     ]
    },
    {
     "name": "stdout",
     "output_type": "stream",
     "text": [
      "Loss = 0.520176351070404\n",
      "Acc = 0.8366926007231406\n",
      "Epoch: 28\n",
      "Entering into train function\n"
     ]
    },
    {
     "name": "stderr",
     "output_type": "stream",
     "text": [
      "100%|██████████| 93/93 [12:13<00:00,  7.89s/it]\n"
     ]
    },
    {
     "name": "stdout",
     "output_type": "stream",
     "text": [
      "Loss = 0.4497784376144409\n",
      "Acc = 0.8440521694214876\n",
      "Epoch: 29\n",
      "Entering into train function\n"
     ]
    },
    {
     "name": "stderr",
     "output_type": "stream",
     "text": [
      "100%|██████████| 93/93 [12:15<00:00,  7.91s/it]\n"
     ]
    },
    {
     "name": "stdout",
     "output_type": "stream",
     "text": [
      "Loss = 0.41178107261657715\n",
      "Acc = 0.8457322604597108\n",
      "Epoch: 30\n",
      "Entering into train function\n"
     ]
    },
    {
     "name": "stderr",
     "output_type": "stream",
     "text": [
      "100%|██████████| 93/93 [12:17<00:00,  7.93s/it]\n"
     ]
    },
    {
     "name": "stdout",
     "output_type": "stream",
     "text": [
      "Loss = 0.45659705996513367\n",
      "Acc = 0.8447972623966942\n",
      "Epoch: 31\n",
      "Entering into train function\n"
     ]
    },
    {
     "name": "stderr",
     "output_type": "stream",
     "text": [
      "100%|██████████| 93/93 [12:12<00:00,  7.87s/it]\n"
     ]
    },
    {
     "name": "stdout",
     "output_type": "stream",
     "text": [
      "Loss = 0.40684062242507935\n",
      "Acc = 0.8414835679235537\n",
      "Epoch: 32\n",
      "Entering into train function\n"
     ]
    },
    {
     "name": "stderr",
     "output_type": "stream",
     "text": [
      "100%|██████████| 93/93 [12:18<00:00,  7.95s/it]\n"
     ]
    },
    {
     "name": "stdout",
     "output_type": "stream",
     "text": [
      "Loss = 0.39187362790107727\n",
      "Acc = 0.8436218362603306\n",
      "Epoch: 33\n",
      "Entering into train function\n"
     ]
    },
    {
     "name": "stderr",
     "output_type": "stream",
     "text": [
      "100%|██████████| 93/93 [12:10<00:00,  7.86s/it]\n"
     ]
    },
    {
     "name": "stdout",
     "output_type": "stream",
     "text": [
      "Loss = 0.4561930298805237\n",
      "Acc = 0.8453038642820248\n",
      "Epoch: 34\n",
      "Entering into train function\n"
     ]
    },
    {
     "name": "stderr",
     "output_type": "stream",
     "text": [
      "100%|██████████| 93/93 [12:20<00:00,  7.97s/it]\n"
     ]
    },
    {
     "name": "stdout",
     "output_type": "stream",
     "text": [
      "Loss = 0.4398045539855957\n",
      "Acc = 0.8409929461518595\n",
      "Epoch: 35\n",
      "Entering into train function\n"
     ]
    },
    {
     "name": "stderr",
     "output_type": "stream",
     "text": [
      "100%|██████████| 93/93 [12:12<00:00,  7.87s/it]\n"
     ]
    },
    {
     "name": "stdout",
     "output_type": "stream",
     "text": [
      "Loss = 0.45760005712509155\n",
      "Acc = 0.8394672488378099\n",
      "Epoch: 36\n",
      "Entering into train function\n"
     ]
    },
    {
     "name": "stderr",
     "output_type": "stream",
     "text": [
      "100%|██████████| 93/93 [12:09<00:00,  7.85s/it]\n"
     ]
    },
    {
     "name": "stdout",
     "output_type": "stream",
     "text": [
      "Loss = 0.5246810913085938\n",
      "Acc = 0.8409395983987603\n",
      "Epoch: 37\n",
      "Entering into train function\n"
     ]
    },
    {
     "name": "stderr",
     "output_type": "stream",
     "text": [
      "100%|██████████| 93/93 [12:19<00:00,  7.95s/it]\n"
     ]
    },
    {
     "name": "stdout",
     "output_type": "stream",
     "text": [
      "Loss = 0.5515089631080627\n",
      "Acc = 0.8321301168646694\n",
      "Epoch: 38\n",
      "Entering into train function\n"
     ]
    },
    {
     "name": "stderr",
     "output_type": "stream",
     "text": [
      "100%|██████████| 93/93 [12:17<00:00,  7.93s/it]\n"
     ]
    },
    {
     "name": "stdout",
     "output_type": "stream",
     "text": [
      "Loss = 0.41721946001052856\n",
      "Acc = 0.8444702350206612\n",
      "Epoch: 39\n",
      "Entering into train function\n"
     ]
    },
    {
     "name": "stderr",
     "output_type": "stream",
     "text": [
      "100%|██████████| 93/93 [12:13<00:00,  7.89s/it]\n"
     ]
    },
    {
     "name": "stdout",
     "output_type": "stream",
     "text": [
      "Loss = 0.4913797974586487\n",
      "Acc = 0.8456217716942148\n",
      "Epoch: 40\n",
      "Entering into train function\n"
     ]
    },
    {
     "name": "stderr",
     "output_type": "stream",
     "text": [
      "100%|██████████| 93/93 [12:14<00:00,  7.90s/it]\n"
     ]
    },
    {
     "name": "stdout",
     "output_type": "stream",
     "text": [
      "Loss = 0.4886768162250519\n",
      "Acc = 0.8390573347107438\n",
      "Epoch: 41\n",
      "Entering into train function\n"
     ]
    },
    {
     "name": "stderr",
     "output_type": "stream",
     "text": [
      "100%|██████████| 93/93 [12:14<00:00,  7.90s/it]\n"
     ]
    },
    {
     "name": "stdout",
     "output_type": "stream",
     "text": [
      "Loss = 0.5523442625999451\n",
      "Acc = 0.8427768272210743\n",
      "Epoch: 42\n",
      "Entering into train function\n"
     ]
    },
    {
     "name": "stderr",
     "output_type": "stream",
     "text": [
      "100%|██████████| 93/93 [12:14<00:00,  7.90s/it]\n"
     ]
    },
    {
     "name": "stdout",
     "output_type": "stream",
     "text": [
      "Loss = 0.4118516743183136\n",
      "Acc = 0.8504792419938016\n",
      "Epoch: 43\n",
      "Entering into train function\n"
     ]
    },
    {
     "name": "stderr",
     "output_type": "stream",
     "text": [
      "100%|██████████| 93/93 [12:22<00:00,  7.98s/it]\n"
     ]
    },
    {
     "name": "stdout",
     "output_type": "stream",
     "text": [
      "Loss = 0.37737786769866943\n",
      "Acc = 0.8496488410382231\n",
      "Epoch: 44\n",
      "Entering into train function\n"
     ]
    },
    {
     "name": "stderr",
     "output_type": "stream",
     "text": [
      "100%|██████████| 93/93 [12:12<00:00,  7.88s/it]\n"
     ]
    },
    {
     "name": "stdout",
     "output_type": "stream",
     "text": [
      "Loss = 0.39891567826271057\n",
      "Acc = 0.8508186983471073\n",
      "Epoch: 45\n",
      "Entering into train function\n"
     ]
    },
    {
     "name": "stderr",
     "output_type": "stream",
     "text": [
      "100%|██████████| 93/93 [12:16<00:00,  7.91s/it]\n"
     ]
    },
    {
     "name": "stdout",
     "output_type": "stream",
     "text": [
      "Loss = 0.416339635848999\n",
      "Acc = 0.8491859826962809\n",
      "Epoch: 46\n",
      "Entering into train function\n"
     ]
    },
    {
     "name": "stderr",
     "output_type": "stream",
     "text": [
      "100%|██████████| 93/93 [12:16<00:00,  7.92s/it]\n"
     ]
    },
    {
     "name": "stdout",
     "output_type": "stream",
     "text": [
      "Loss = 0.4381870627403259\n",
      "Acc = 0.8493523211518595\n",
      "Epoch: 47\n",
      "Entering into train function\n"
     ]
    },
    {
     "name": "stderr",
     "output_type": "stream",
     "text": [
      "100%|██████████| 93/93 [12:14<00:00,  7.90s/it]\n"
     ]
    },
    {
     "name": "stdout",
     "output_type": "stream",
     "text": [
      "Loss = 0.4164195656776428\n",
      "Acc = 0.8483529990960743\n",
      "Epoch: 48\n",
      "Entering into train function\n"
     ]
    },
    {
     "name": "stderr",
     "output_type": "stream",
     "text": [
      " 26%|██▌       | 24/93 [03:24<10:25,  9.07s/it]"
     ]
    }
   ],
   "source": [
    "LOSS_VALS_Fuzzy = []\n",
    "ACC_VALS_Fuzzy = []\n",
    "\n",
    "unet_fuzzy = Fuzzy_UNET(0, 0,in_channels=3, classes=35, fuzzy = True).to(DEVICE).train()\n",
    "optimizer = optim.Adam(unet_fuzzy.parameters(), lr=LEARNING_RATE)\n",
    "loss_function = nn.CrossEntropyLoss().to(DEVICE)\n",
    "\n",
    "for e in range(0, EPOCHS):\n",
    "    torch.cuda.empty_cache()\n",
    "    print(f'Epoch: {e}')\n",
    "    loss_val = train_function(train_set, unet_fuzzy, optimizer, loss_function, DEVICE)\n",
    "    LOSS_VALS_Fuzzy.append(loss_val) \n",
    "    print(f'Loss = {loss_val}')\n",
    "    torch.cuda.empty_cache()\n",
    "    acc = acc_epoch(test_set, unet_fuzzy, DEVICE)\n",
    "    ACC_VALS_Fuzzy.append(acc)\n",
    "    print(f'Acc = {acc}')\n",
    "    save_variable(unet_fuzzy.fuzzy.mu,'unet_fuzzy_mu_' + str(e) + '.txt')\n",
    "    save_variable(unet_fuzzy.fuzzy.sigma,'unet_fuzzy_sigma_' + str(e) + '.txt')\n",
    "\n",
    "save_variable(unet_fuzzy,'unet_fuzzy.txt')\n",
    "save_variable(LOSS_VALS_Fuzzy,'loss_unet_fuzzy.txt')\n",
    "save_variable(ACC_VALS_Fuzzy,'acc_unet_fuzzy.txt')"
   ]
  },
  {
   "cell_type": "code",
   "execution_count": null,
   "metadata": {},
   "outputs": [
    {
     "name": "stdout",
     "output_type": "stream",
     "text": [
      "Epoch: 0\n",
      "Entering into train function\n"
     ]
    },
    {
     "name": "stderr",
     "output_type": "stream",
     "text": [
      " 26%|██▌       | 24/93 [00:37<01:49,  1.58s/it]\n"
     ]
    },
    {
     "ename": "KeyboardInterrupt",
     "evalue": "",
     "output_type": "error",
     "traceback": [
      "\u001b[1;31m---------------------------------------------------------------------------\u001b[0m",
      "\u001b[1;31mKeyboardInterrupt\u001b[0m                         Traceback (most recent call last)",
      "Cell \u001b[1;32mIn[10], line 11\u001b[0m\n\u001b[0;32m      9\u001b[0m torch\u001b[39m.\u001b[39mcuda\u001b[39m.\u001b[39mempty_cache()\n\u001b[0;32m     10\u001b[0m \u001b[39mprint\u001b[39m(\u001b[39mf\u001b[39m\u001b[39m'\u001b[39m\u001b[39mEpoch: \u001b[39m\u001b[39m{\u001b[39;00me\u001b[39m}\u001b[39;00m\u001b[39m'\u001b[39m)\n\u001b[1;32m---> 11\u001b[0m loss_val \u001b[39m=\u001b[39m train_function(train_set, unet, optimizer, loss_function, DEVICE)\n\u001b[0;32m     12\u001b[0m LOSS_VALS\u001b[39m.\u001b[39mappend(loss_val) \n\u001b[0;32m     13\u001b[0m \u001b[39mprint\u001b[39m(\u001b[39mf\u001b[39m\u001b[39m'\u001b[39m\u001b[39mLoss = \u001b[39m\u001b[39m{\u001b[39;00mloss_val\u001b[39m}\u001b[39;00m\u001b[39m'\u001b[39m)\n",
      "Cell \u001b[1;32mIn[8], line 32\u001b[0m, in \u001b[0;36mtrain_function\u001b[1;34m(data, model, optimizer, loss_fn, device)\u001b[0m\n\u001b[0;32m     30\u001b[0m loss_values \u001b[39m=\u001b[39m []\n\u001b[0;32m     31\u001b[0m data \u001b[39m=\u001b[39m tqdm(data)\n\u001b[1;32m---> 32\u001b[0m \u001b[39mfor\u001b[39;00m index, batch \u001b[39min\u001b[39;00m \u001b[39menumerate\u001b[39m(data): \n\u001b[0;32m     33\u001b[0m     X, y \u001b[39m=\u001b[39m batch\n\u001b[0;32m     34\u001b[0m     X, y \u001b[39m=\u001b[39m X\u001b[39m.\u001b[39mto(device), y\u001b[39m.\u001b[39mto(device)\n",
      "File \u001b[1;32mc:\\Users\\ASUS\\.conda\\envs\\pytorch\\lib\\site-packages\\tqdm\\std.py:1178\u001b[0m, in \u001b[0;36mtqdm.__iter__\u001b[1;34m(self)\u001b[0m\n\u001b[0;32m   1175\u001b[0m time \u001b[39m=\u001b[39m \u001b[39mself\u001b[39m\u001b[39m.\u001b[39m_time\n\u001b[0;32m   1177\u001b[0m \u001b[39mtry\u001b[39;00m:\n\u001b[1;32m-> 1178\u001b[0m     \u001b[39mfor\u001b[39;00m obj \u001b[39min\u001b[39;00m iterable:\n\u001b[0;32m   1179\u001b[0m         \u001b[39myield\u001b[39;00m obj\n\u001b[0;32m   1180\u001b[0m         \u001b[39m# Update and possibly print the progressbar.\u001b[39;00m\n\u001b[0;32m   1181\u001b[0m         \u001b[39m# Note: does not call self.update(1) for speed optimisation.\u001b[39;00m\n",
      "File \u001b[1;32mc:\\Users\\ASUS\\.conda\\envs\\pytorch\\lib\\site-packages\\torch\\utils\\data\\dataloader.py:633\u001b[0m, in \u001b[0;36m_BaseDataLoaderIter.__next__\u001b[1;34m(self)\u001b[0m\n\u001b[0;32m    630\u001b[0m \u001b[39mif\u001b[39;00m \u001b[39mself\u001b[39m\u001b[39m.\u001b[39m_sampler_iter \u001b[39mis\u001b[39;00m \u001b[39mNone\u001b[39;00m:\n\u001b[0;32m    631\u001b[0m     \u001b[39m# TODO(https://github.com/pytorch/pytorch/issues/76750)\u001b[39;00m\n\u001b[0;32m    632\u001b[0m     \u001b[39mself\u001b[39m\u001b[39m.\u001b[39m_reset()  \u001b[39m# type: ignore[call-arg]\u001b[39;00m\n\u001b[1;32m--> 633\u001b[0m data \u001b[39m=\u001b[39m \u001b[39mself\u001b[39;49m\u001b[39m.\u001b[39;49m_next_data()\n\u001b[0;32m    634\u001b[0m \u001b[39mself\u001b[39m\u001b[39m.\u001b[39m_num_yielded \u001b[39m+\u001b[39m\u001b[39m=\u001b[39m \u001b[39m1\u001b[39m\n\u001b[0;32m    635\u001b[0m \u001b[39mif\u001b[39;00m \u001b[39mself\u001b[39m\u001b[39m.\u001b[39m_dataset_kind \u001b[39m==\u001b[39m _DatasetKind\u001b[39m.\u001b[39mIterable \u001b[39mand\u001b[39;00m \\\n\u001b[0;32m    636\u001b[0m         \u001b[39mself\u001b[39m\u001b[39m.\u001b[39m_IterableDataset_len_called \u001b[39mis\u001b[39;00m \u001b[39mnot\u001b[39;00m \u001b[39mNone\u001b[39;00m \u001b[39mand\u001b[39;00m \\\n\u001b[0;32m    637\u001b[0m         \u001b[39mself\u001b[39m\u001b[39m.\u001b[39m_num_yielded \u001b[39m>\u001b[39m \u001b[39mself\u001b[39m\u001b[39m.\u001b[39m_IterableDataset_len_called:\n",
      "File \u001b[1;32mc:\\Users\\ASUS\\.conda\\envs\\pytorch\\lib\\site-packages\\torch\\utils\\data\\dataloader.py:677\u001b[0m, in \u001b[0;36m_SingleProcessDataLoaderIter._next_data\u001b[1;34m(self)\u001b[0m\n\u001b[0;32m    675\u001b[0m \u001b[39mdef\u001b[39;00m \u001b[39m_next_data\u001b[39m(\u001b[39mself\u001b[39m):\n\u001b[0;32m    676\u001b[0m     index \u001b[39m=\u001b[39m \u001b[39mself\u001b[39m\u001b[39m.\u001b[39m_next_index()  \u001b[39m# may raise StopIteration\u001b[39;00m\n\u001b[1;32m--> 677\u001b[0m     data \u001b[39m=\u001b[39m \u001b[39mself\u001b[39;49m\u001b[39m.\u001b[39;49m_dataset_fetcher\u001b[39m.\u001b[39;49mfetch(index)  \u001b[39m# may raise StopIteration\u001b[39;00m\n\u001b[0;32m    678\u001b[0m     \u001b[39mif\u001b[39;00m \u001b[39mself\u001b[39m\u001b[39m.\u001b[39m_pin_memory:\n\u001b[0;32m    679\u001b[0m         data \u001b[39m=\u001b[39m _utils\u001b[39m.\u001b[39mpin_memory\u001b[39m.\u001b[39mpin_memory(data, \u001b[39mself\u001b[39m\u001b[39m.\u001b[39m_pin_memory_device)\n",
      "File \u001b[1;32mc:\\Users\\ASUS\\.conda\\envs\\pytorch\\lib\\site-packages\\torch\\utils\\data\\_utils\\fetch.py:51\u001b[0m, in \u001b[0;36m_MapDatasetFetcher.fetch\u001b[1;34m(self, possibly_batched_index)\u001b[0m\n\u001b[0;32m     49\u001b[0m         data \u001b[39m=\u001b[39m \u001b[39mself\u001b[39m\u001b[39m.\u001b[39mdataset\u001b[39m.\u001b[39m__getitems__(possibly_batched_index)\n\u001b[0;32m     50\u001b[0m     \u001b[39melse\u001b[39;00m:\n\u001b[1;32m---> 51\u001b[0m         data \u001b[39m=\u001b[39m [\u001b[39mself\u001b[39m\u001b[39m.\u001b[39mdataset[idx] \u001b[39mfor\u001b[39;00m idx \u001b[39min\u001b[39;00m possibly_batched_index]\n\u001b[0;32m     52\u001b[0m \u001b[39melse\u001b[39;00m:\n\u001b[0;32m     53\u001b[0m     data \u001b[39m=\u001b[39m \u001b[39mself\u001b[39m\u001b[39m.\u001b[39mdataset[possibly_batched_index]\n",
      "File \u001b[1;32mc:\\Users\\ASUS\\.conda\\envs\\pytorch\\lib\\site-packages\\torch\\utils\\data\\_utils\\fetch.py:51\u001b[0m, in \u001b[0;36m<listcomp>\u001b[1;34m(.0)\u001b[0m\n\u001b[0;32m     49\u001b[0m         data \u001b[39m=\u001b[39m \u001b[39mself\u001b[39m\u001b[39m.\u001b[39mdataset\u001b[39m.\u001b[39m__getitems__(possibly_batched_index)\n\u001b[0;32m     50\u001b[0m     \u001b[39melse\u001b[39;00m:\n\u001b[1;32m---> 51\u001b[0m         data \u001b[39m=\u001b[39m [\u001b[39mself\u001b[39;49m\u001b[39m.\u001b[39;49mdataset[idx] \u001b[39mfor\u001b[39;00m idx \u001b[39min\u001b[39;00m possibly_batched_index]\n\u001b[0;32m     52\u001b[0m \u001b[39melse\u001b[39;00m:\n\u001b[0;32m     53\u001b[0m     data \u001b[39m=\u001b[39m \u001b[39mself\u001b[39m\u001b[39m.\u001b[39mdataset[possibly_batched_index]\n",
      "Cell \u001b[1;32mIn[3], line 38\u001b[0m, in \u001b[0;36mCityscapesDataset.__getitem__\u001b[1;34m(self, index)\u001b[0m\n\u001b[0;32m     35\u001b[0m y \u001b[39m=\u001b[39m Image\u001b[39m.\u001b[39mopen(\u001b[39mself\u001b[39m\u001b[39m.\u001b[39mlabel_path\u001b[39m+\u001b[39m\u001b[39mself\u001b[39m\u001b[39m.\u001b[39myLabel_list[index])\n\u001b[0;32m     37\u001b[0m \u001b[39mif\u001b[39;00m \u001b[39mself\u001b[39m\u001b[39m.\u001b[39mtransform \u001b[39mis\u001b[39;00m \u001b[39mnot\u001b[39;00m \u001b[39mNone\u001b[39;00m:\n\u001b[1;32m---> 38\u001b[0m     image \u001b[39m=\u001b[39m \u001b[39mself\u001b[39;49m\u001b[39m.\u001b[39;49mtransform(image)\n\u001b[0;32m     39\u001b[0m     y \u001b[39m=\u001b[39m \u001b[39mself\u001b[39m\u001b[39m.\u001b[39mtransform(y)\n\u001b[0;32m     41\u001b[0m image \u001b[39m=\u001b[39m transforms\u001b[39m.\u001b[39mToTensor()(image)\n",
      "File \u001b[1;32mc:\\Users\\ASUS\\.conda\\envs\\pytorch\\lib\\site-packages\\torchvision\\transforms\\transforms.py:95\u001b[0m, in \u001b[0;36mCompose.__call__\u001b[1;34m(self, img)\u001b[0m\n\u001b[0;32m     93\u001b[0m \u001b[39mdef\u001b[39;00m \u001b[39m__call__\u001b[39m(\u001b[39mself\u001b[39m, img):\n\u001b[0;32m     94\u001b[0m     \u001b[39mfor\u001b[39;00m t \u001b[39min\u001b[39;00m \u001b[39mself\u001b[39m\u001b[39m.\u001b[39mtransforms:\n\u001b[1;32m---> 95\u001b[0m         img \u001b[39m=\u001b[39m t(img)\n\u001b[0;32m     96\u001b[0m     \u001b[39mreturn\u001b[39;00m img\n",
      "File \u001b[1;32mc:\\Users\\ASUS\\.conda\\envs\\pytorch\\lib\\site-packages\\torch\\nn\\modules\\module.py:1501\u001b[0m, in \u001b[0;36mModule._call_impl\u001b[1;34m(self, *args, **kwargs)\u001b[0m\n\u001b[0;32m   1496\u001b[0m \u001b[39m# If we don't have any hooks, we want to skip the rest of the logic in\u001b[39;00m\n\u001b[0;32m   1497\u001b[0m \u001b[39m# this function, and just call forward.\u001b[39;00m\n\u001b[0;32m   1498\u001b[0m \u001b[39mif\u001b[39;00m \u001b[39mnot\u001b[39;00m (\u001b[39mself\u001b[39m\u001b[39m.\u001b[39m_backward_hooks \u001b[39mor\u001b[39;00m \u001b[39mself\u001b[39m\u001b[39m.\u001b[39m_backward_pre_hooks \u001b[39mor\u001b[39;00m \u001b[39mself\u001b[39m\u001b[39m.\u001b[39m_forward_hooks \u001b[39mor\u001b[39;00m \u001b[39mself\u001b[39m\u001b[39m.\u001b[39m_forward_pre_hooks\n\u001b[0;32m   1499\u001b[0m         \u001b[39mor\u001b[39;00m _global_backward_pre_hooks \u001b[39mor\u001b[39;00m _global_backward_hooks\n\u001b[0;32m   1500\u001b[0m         \u001b[39mor\u001b[39;00m _global_forward_hooks \u001b[39mor\u001b[39;00m _global_forward_pre_hooks):\n\u001b[1;32m-> 1501\u001b[0m     \u001b[39mreturn\u001b[39;00m forward_call(\u001b[39m*\u001b[39margs, \u001b[39m*\u001b[39m\u001b[39m*\u001b[39mkwargs)\n\u001b[0;32m   1502\u001b[0m \u001b[39m# Do not call functions when jit is used\u001b[39;00m\n\u001b[0;32m   1503\u001b[0m full_backward_hooks, non_full_backward_hooks \u001b[39m=\u001b[39m [], []\n",
      "File \u001b[1;32mc:\\Users\\ASUS\\.conda\\envs\\pytorch\\lib\\site-packages\\torchvision\\transforms\\transforms.py:361\u001b[0m, in \u001b[0;36mResize.forward\u001b[1;34m(self, img)\u001b[0m\n\u001b[0;32m    353\u001b[0m \u001b[39mdef\u001b[39;00m \u001b[39mforward\u001b[39m(\u001b[39mself\u001b[39m, img):\n\u001b[0;32m    354\u001b[0m \u001b[39m    \u001b[39m\u001b[39m\"\"\"\u001b[39;00m\n\u001b[0;32m    355\u001b[0m \u001b[39m    Args:\u001b[39;00m\n\u001b[0;32m    356\u001b[0m \u001b[39m        img (PIL Image or Tensor): Image to be scaled.\u001b[39;00m\n\u001b[1;32m   (...)\u001b[0m\n\u001b[0;32m    359\u001b[0m \u001b[39m        PIL Image or Tensor: Rescaled image.\u001b[39;00m\n\u001b[0;32m    360\u001b[0m \u001b[39m    \"\"\"\u001b[39;00m\n\u001b[1;32m--> 361\u001b[0m     \u001b[39mreturn\u001b[39;00m F\u001b[39m.\u001b[39;49mresize(img, \u001b[39mself\u001b[39;49m\u001b[39m.\u001b[39;49msize, \u001b[39mself\u001b[39;49m\u001b[39m.\u001b[39;49minterpolation, \u001b[39mself\u001b[39;49m\u001b[39m.\u001b[39;49mmax_size, \u001b[39mself\u001b[39;49m\u001b[39m.\u001b[39;49mantialias)\n",
      "File \u001b[1;32mc:\\Users\\ASUS\\.conda\\envs\\pytorch\\lib\\site-packages\\torchvision\\transforms\\functional.py:490\u001b[0m, in \u001b[0;36mresize\u001b[1;34m(img, size, interpolation, max_size, antialias)\u001b[0m\n\u001b[0;32m    488\u001b[0m         warnings\u001b[39m.\u001b[39mwarn(\u001b[39m\"\u001b[39m\u001b[39mAnti-alias option is always applied for PIL Image input. Argument antialias is ignored.\u001b[39m\u001b[39m\"\u001b[39m)\n\u001b[0;32m    489\u001b[0m     pil_interpolation \u001b[39m=\u001b[39m pil_modes_mapping[interpolation]\n\u001b[1;32m--> 490\u001b[0m     \u001b[39mreturn\u001b[39;00m F_pil\u001b[39m.\u001b[39;49mresize(img, size\u001b[39m=\u001b[39;49moutput_size, interpolation\u001b[39m=\u001b[39;49mpil_interpolation)\n\u001b[0;32m    492\u001b[0m \u001b[39mreturn\u001b[39;00m F_t\u001b[39m.\u001b[39mresize(img, size\u001b[39m=\u001b[39moutput_size, interpolation\u001b[39m=\u001b[39minterpolation\u001b[39m.\u001b[39mvalue, antialias\u001b[39m=\u001b[39mantialias)\n",
      "File \u001b[1;32mc:\\Users\\ASUS\\.conda\\envs\\pytorch\\lib\\site-packages\\torchvision\\transforms\\_functional_pil.py:250\u001b[0m, in \u001b[0;36mresize\u001b[1;34m(img, size, interpolation)\u001b[0m\n\u001b[0;32m    247\u001b[0m \u001b[39mif\u001b[39;00m \u001b[39mnot\u001b[39;00m (\u001b[39misinstance\u001b[39m(size, \u001b[39mlist\u001b[39m) \u001b[39mand\u001b[39;00m \u001b[39mlen\u001b[39m(size) \u001b[39m==\u001b[39m \u001b[39m2\u001b[39m):\n\u001b[0;32m    248\u001b[0m     \u001b[39mraise\u001b[39;00m \u001b[39mTypeError\u001b[39;00m(\u001b[39mf\u001b[39m\u001b[39m\"\u001b[39m\u001b[39mGot inappropriate size arg: \u001b[39m\u001b[39m{\u001b[39;00msize\u001b[39m}\u001b[39;00m\u001b[39m\"\u001b[39m)\n\u001b[1;32m--> 250\u001b[0m \u001b[39mreturn\u001b[39;00m img\u001b[39m.\u001b[39;49mresize(\u001b[39mtuple\u001b[39;49m(size[::\u001b[39m-\u001b[39;49m\u001b[39m1\u001b[39;49m]), interpolation)\n",
      "File \u001b[1;32mc:\\Users\\ASUS\\.conda\\envs\\pytorch\\lib\\site-packages\\PIL\\Image.py:2079\u001b[0m, in \u001b[0;36mImage.resize\u001b[1;34m(self, size, resample, box, reducing_gap)\u001b[0m\n\u001b[0;32m   2075\u001b[0m     \u001b[39mraise\u001b[39;00m \u001b[39mValueError\u001b[39;00m(\u001b[39m\"\u001b[39m\u001b[39mreducing_gap must be 1.0 or greater\u001b[39m\u001b[39m\"\u001b[39m)\n\u001b[0;32m   2077\u001b[0m size \u001b[39m=\u001b[39m \u001b[39mtuple\u001b[39m(size)\n\u001b[1;32m-> 2079\u001b[0m \u001b[39mself\u001b[39;49m\u001b[39m.\u001b[39;49mload()\n\u001b[0;32m   2080\u001b[0m \u001b[39mif\u001b[39;00m box \u001b[39mis\u001b[39;00m \u001b[39mNone\u001b[39;00m:\n\u001b[0;32m   2081\u001b[0m     box \u001b[39m=\u001b[39m (\u001b[39m0\u001b[39m, \u001b[39m0\u001b[39m) \u001b[39m+\u001b[39m \u001b[39mself\u001b[39m\u001b[39m.\u001b[39msize\n",
      "File \u001b[1;32mc:\\Users\\ASUS\\.conda\\envs\\pytorch\\lib\\site-packages\\PIL\\ImageFile.py:260\u001b[0m, in \u001b[0;36mImageFile.load\u001b[1;34m(self)\u001b[0m\n\u001b[0;32m    254\u001b[0m         \u001b[39mraise\u001b[39;00m \u001b[39mOSError\u001b[39;00m(\n\u001b[0;32m    255\u001b[0m             \u001b[39m\"\u001b[39m\u001b[39mimage file is truncated \u001b[39m\u001b[39m\"\u001b[39m\n\u001b[0;32m    256\u001b[0m             \u001b[39mf\u001b[39m\u001b[39m\"\u001b[39m\u001b[39m(\u001b[39m\u001b[39m{\u001b[39;00m\u001b[39mlen\u001b[39m(b)\u001b[39m}\u001b[39;00m\u001b[39m bytes not processed)\u001b[39m\u001b[39m\"\u001b[39m\n\u001b[0;32m    257\u001b[0m         )\n\u001b[0;32m    259\u001b[0m b \u001b[39m=\u001b[39m b \u001b[39m+\u001b[39m s\n\u001b[1;32m--> 260\u001b[0m n, err_code \u001b[39m=\u001b[39m decoder\u001b[39m.\u001b[39;49mdecode(b)\n\u001b[0;32m    261\u001b[0m \u001b[39mif\u001b[39;00m n \u001b[39m<\u001b[39m \u001b[39m0\u001b[39m:\n\u001b[0;32m    262\u001b[0m     \u001b[39mbreak\u001b[39;00m\n",
      "\u001b[1;31mKeyboardInterrupt\u001b[0m: "
     ]
    }
   ],
   "source": [
    "LOSS_VALS = []\n",
    "ACC_VALS = []\n",
    "\n",
    "unet = Fuzzy_UNET(0, 0 , in_channels=3, classes=35).to(DEVICE).train()\n",
    "optimizer = optim.Adam(unet.parameters(), lr=LEARNING_RATE)\n",
    "loss_function = nn.CrossEntropyLoss().to(DEVICE)\n",
    "\n",
    "for e in range(0, EPOCHS):\n",
    "    torch.cuda.empty_cache()\n",
    "    print(f'Epoch: {e}')\n",
    "    loss_val = train_function(train_set, unet, optimizer, loss_function, DEVICE)\n",
    "    LOSS_VALS.append(loss_val) \n",
    "    print(f'Loss = {loss_val}')\n",
    "    torch.cuda.empty_cache()\n",
    "    acc = acc_epoch(test_set, unet, DEVICE)\n",
    "    ACC_VALS.append(acc)\n",
    "    print(f'Acc = {acc}')\n",
    "\n",
    "save_variable(unet,'unet.txt')\n",
    "save_variable(LOSS_VALS,'loss_unet.txt')\n",
    "save_variable(ACC_VALS,'acc_unet.txt')"
   ]
  },
  {
   "cell_type": "code",
   "execution_count": null,
   "metadata": {},
   "outputs": [
    {
     "name": "stdout",
     "output_type": "stream",
     "text": [
      "Epoch: 0\n",
      "Entering into train function\n"
     ]
    },
    {
     "name": "stderr",
     "output_type": "stream",
     "text": [
      "100%|██████████| 93/93 [12:13<00:00,  7.89s/it]\n"
     ]
    },
    {
     "name": "stdout",
     "output_type": "stream",
     "text": [
      "Loss = 1.055131196975708\n",
      "Acc = 0.7282619608729339\n",
      "Epoch: 1\n",
      "Entering into train function\n"
     ]
    },
    {
     "name": "stderr",
     "output_type": "stream",
     "text": [
      "100%|██████████| 93/93 [11:52<00:00,  7.66s/it]\n"
     ]
    },
    {
     "name": "stdout",
     "output_type": "stream",
     "text": [
      "Loss = 0.6399616599082947\n",
      "Acc = 0.7828286415289256\n",
      "Epoch: 2\n",
      "Entering into train function\n"
     ]
    },
    {
     "name": "stderr",
     "output_type": "stream",
     "text": [
      "100%|██████████| 93/93 [12:06<00:00,  7.81s/it]\n"
     ]
    },
    {
     "name": "stdout",
     "output_type": "stream",
     "text": [
      "Loss = 0.7874130010604858\n",
      "Acc = 0.7880604338842976\n",
      "Epoch: 3\n",
      "Entering into train function\n"
     ]
    },
    {
     "name": "stderr",
     "output_type": "stream",
     "text": [
      "100%|██████████| 93/93 [12:09<00:00,  7.84s/it]\n"
     ]
    },
    {
     "name": "stdout",
     "output_type": "stream",
     "text": [
      "Loss = 0.5947115421295166\n",
      "Acc = 0.8063078673811983\n",
      "Epoch: 4\n",
      "Entering into train function\n"
     ]
    },
    {
     "name": "stderr",
     "output_type": "stream",
     "text": [
      "100%|██████████| 93/93 [12:00<00:00,  7.74s/it]\n"
     ]
    },
    {
     "name": "stdout",
     "output_type": "stream",
     "text": [
      "Loss = 0.678134560585022\n",
      "Acc = 0.8058550167871901\n",
      "Epoch: 5\n",
      "Entering into train function\n"
     ]
    },
    {
     "name": "stderr",
     "output_type": "stream",
     "text": [
      "100%|██████████| 93/93 [12:14<00:00,  7.89s/it]\n"
     ]
    },
    {
     "name": "stdout",
     "output_type": "stream",
     "text": [
      "Loss = 0.53728187084198\n",
      "Acc = 0.8210796261621901\n",
      "Epoch: 6\n",
      "Entering into train function\n"
     ]
    },
    {
     "name": "stderr",
     "output_type": "stream",
     "text": [
      "100%|██████████| 93/93 [12:08<00:00,  7.83s/it]\n"
     ]
    },
    {
     "name": "stdout",
     "output_type": "stream",
     "text": [
      "Loss = 0.5248477458953857\n",
      "Acc = 0.8211445151084711\n",
      "Epoch: 7\n",
      "Entering into train function\n"
     ]
    },
    {
     "name": "stderr",
     "output_type": "stream",
     "text": [
      "100%|██████████| 93/93 [12:16<00:00,  7.92s/it]\n"
     ]
    },
    {
     "name": "stdout",
     "output_type": "stream",
     "text": [
      "Loss = 0.5786038637161255\n",
      "Acc = 0.8184357244318182\n",
      "Epoch: 8\n",
      "Entering into train function\n"
     ]
    },
    {
     "name": "stderr",
     "output_type": "stream",
     "text": [
      "100%|██████████| 93/93 [12:06<00:00,  7.82s/it]\n"
     ]
    },
    {
     "name": "stdout",
     "output_type": "stream",
     "text": [
      "Loss = 0.4909683167934418\n",
      "Acc = 0.8243949347882232\n",
      "Epoch: 9\n",
      "Entering into train function\n"
     ]
    },
    {
     "name": "stderr",
     "output_type": "stream",
     "text": [
      "100%|██████████| 93/93 [11:54<00:00,  7.68s/it]\n"
     ]
    },
    {
     "name": "stdout",
     "output_type": "stream",
     "text": [
      "Loss = 0.45408037304878235\n",
      "Acc = 0.8267489346590908\n",
      "Epoch: 10\n",
      "Entering into train function\n"
     ]
    },
    {
     "name": "stderr",
     "output_type": "stream",
     "text": [
      "100%|██████████| 93/93 [12:09<00:00,  7.84s/it]\n"
     ]
    },
    {
     "name": "stdout",
     "output_type": "stream",
     "text": [
      "Loss = 0.48830750584602356\n",
      "Acc = 0.8326535059400826\n",
      "Epoch: 11\n",
      "Entering into train function\n"
     ]
    },
    {
     "name": "stderr",
     "output_type": "stream",
     "text": [
      "100%|██████████| 93/93 [12:16<00:00,  7.92s/it]\n"
     ]
    },
    {
     "name": "stdout",
     "output_type": "stream",
     "text": [
      "Loss = 0.5547605156898499\n",
      "Acc = 0.8357903699638429\n",
      "Epoch: 12\n",
      "Entering into train function\n"
     ]
    },
    {
     "name": "stderr",
     "output_type": "stream",
     "text": [
      "100%|██████████| 93/93 [12:07<00:00,  7.82s/it]\n"
     ]
    },
    {
     "name": "stdout",
     "output_type": "stream",
     "text": [
      "Loss = 0.41669929027557373\n",
      "Acc = 0.8339433755165289\n",
      "Epoch: 13\n",
      "Entering into train function\n"
     ]
    },
    {
     "name": "stderr",
     "output_type": "stream",
     "text": [
      "100%|██████████| 93/93 [12:03<00:00,  7.78s/it]\n"
     ]
    },
    {
     "name": "stdout",
     "output_type": "stream",
     "text": [
      "Loss = 0.43424054980278015\n",
      "Acc = 0.835617171358471\n",
      "Epoch: 14\n",
      "Entering into train function\n"
     ]
    },
    {
     "name": "stderr",
     "output_type": "stream",
     "text": [
      "100%|██████████| 93/93 [12:01<00:00,  7.76s/it]\n"
     ]
    },
    {
     "name": "stdout",
     "output_type": "stream",
     "text": [
      "Loss = 0.4587761461734772\n",
      "Acc = 0.8347405249225206\n",
      "Epoch: 15\n",
      "Entering into train function\n"
     ]
    },
    {
     "name": "stderr",
     "output_type": "stream",
     "text": [
      "100%|██████████| 93/93 [12:03<00:00,  7.78s/it]\n"
     ]
    },
    {
     "name": "stdout",
     "output_type": "stream",
     "text": [
      "Loss = 0.44202563166618347\n",
      "Acc = 0.8331162028667356\n",
      "Epoch: 16\n",
      "Entering into train function\n"
     ]
    },
    {
     "name": "stderr",
     "output_type": "stream",
     "text": [
      "100%|██████████| 93/93 [12:07<00:00,  7.82s/it]\n"
     ]
    },
    {
     "name": "stdout",
     "output_type": "stream",
     "text": [
      "Loss = 0.3941418528556824\n",
      "Acc = 0.8366005940082644\n",
      "Epoch: 17\n",
      "Entering into train function\n"
     ]
    },
    {
     "name": "stderr",
     "output_type": "stream",
     "text": [
      "100%|██████████| 93/93 [12:05<00:00,  7.80s/it]\n"
     ]
    },
    {
     "name": "stdout",
     "output_type": "stream",
     "text": [
      "Loss = 0.3387136459350586\n",
      "Acc = 0.8415724270402893\n",
      "Epoch: 18\n",
      "Entering into train function\n"
     ]
    },
    {
     "name": "stderr",
     "output_type": "stream",
     "text": [
      "100%|██████████| 93/93 [12:09<00:00,  7.85s/it]\n"
     ]
    },
    {
     "name": "stdout",
     "output_type": "stream",
     "text": [
      "Loss = 0.4315679967403412\n",
      "Acc = 0.8387069021177687\n",
      "Epoch: 19\n",
      "Entering into train function\n"
     ]
    },
    {
     "name": "stderr",
     "output_type": "stream",
     "text": [
      "100%|██████████| 93/93 [12:12<00:00,  7.88s/it]\n"
     ]
    },
    {
     "name": "stdout",
     "output_type": "stream",
     "text": [
      "Loss = 0.31384167075157166\n",
      "Acc = 0.8363851045971075\n",
      "Epoch: 20\n",
      "Entering into train function\n"
     ]
    },
    {
     "name": "stderr",
     "output_type": "stream",
     "text": [
      "100%|██████████| 93/93 [11:54<00:00,  7.68s/it]\n"
     ]
    },
    {
     "name": "stdout",
     "output_type": "stream",
     "text": [
      "Loss = 0.4108540117740631\n",
      "Acc = 0.8372945990444215\n",
      "Epoch: 21\n",
      "Entering into train function\n"
     ]
    },
    {
     "name": "stderr",
     "output_type": "stream",
     "text": [
      "100%|██████████| 93/93 [12:14<00:00,  7.90s/it]\n"
     ]
    },
    {
     "name": "stdout",
     "output_type": "stream",
     "text": [
      "Loss = 0.4022478461265564\n",
      "Acc = 0.8374599690082645\n",
      "Epoch: 22\n",
      "Entering into train function\n"
     ]
    },
    {
     "name": "stderr",
     "output_type": "stream",
     "text": [
      "100%|██████████| 93/93 [12:22<00:00,  7.99s/it]\n"
     ]
    },
    {
     "name": "stdout",
     "output_type": "stream",
     "text": [
      "Loss = 0.36003419756889343\n",
      "Acc = 0.8433130488119835\n",
      "Epoch: 23\n",
      "Entering into train function\n"
     ]
    },
    {
     "name": "stderr",
     "output_type": "stream",
     "text": [
      "100%|██████████| 93/93 [12:17<00:00,  7.93s/it]\n"
     ]
    },
    {
     "name": "stdout",
     "output_type": "stream",
     "text": [
      "Loss = 0.39005714654922485\n",
      "Acc = 0.8389250548811983\n",
      "Epoch: 24\n",
      "Entering into train function\n"
     ]
    },
    {
     "name": "stderr",
     "output_type": "stream",
     "text": [
      "100%|██████████| 93/93 [12:04<00:00,  7.79s/it]\n"
     ]
    },
    {
     "name": "stdout",
     "output_type": "stream",
     "text": [
      "Loss = 0.39738667011260986\n",
      "Acc = 0.8426158154700414\n",
      "Epoch: 25\n",
      "Entering into train function\n"
     ]
    },
    {
     "name": "stderr",
     "output_type": "stream",
     "text": [
      "100%|██████████| 93/93 [12:17<00:00,  7.93s/it]\n"
     ]
    },
    {
     "name": "stdout",
     "output_type": "stream",
     "text": [
      "Loss = 0.33463171124458313\n",
      "Acc = 0.8446053396177686\n",
      "Epoch: 26\n",
      "Entering into train function\n"
     ]
    },
    {
     "name": "stderr",
     "output_type": "stream",
     "text": [
      "100%|██████████| 93/93 [12:11<00:00,  7.86s/it]\n"
     ]
    },
    {
     "name": "stdout",
     "output_type": "stream",
     "text": [
      "Loss = 0.3872620761394501\n",
      "Acc = 0.8401339746900827\n",
      "Epoch: 27\n",
      "Entering into train function\n"
     ]
    },
    {
     "name": "stderr",
     "output_type": "stream",
     "text": [
      "100%|██████████| 93/93 [12:00<00:00,  7.74s/it]\n"
     ]
    },
    {
     "name": "stdout",
     "output_type": "stream",
     "text": [
      "Loss = 0.34386229515075684\n",
      "Acc = 0.8414466845299586\n",
      "Epoch: 28\n",
      "Entering into train function\n"
     ]
    },
    {
     "name": "stderr",
     "output_type": "stream",
     "text": [
      "100%|██████████| 93/93 [12:15<00:00,  7.91s/it]\n"
     ]
    },
    {
     "name": "stdout",
     "output_type": "stream",
     "text": [
      "Loss = 0.331616073846817\n",
      "Acc = 0.8432322604597107\n",
      "Epoch: 29\n",
      "Entering into train function\n"
     ]
    },
    {
     "name": "stderr",
     "output_type": "stream",
     "text": [
      "100%|██████████| 93/93 [12:00<00:00,  7.75s/it]\n"
     ]
    },
    {
     "name": "stdout",
     "output_type": "stream",
     "text": [
      "Loss = 0.2847960591316223\n",
      "Acc = 0.8459507360537191\n",
      "Epoch: 30\n",
      "Entering into train function\n"
     ]
    },
    {
     "name": "stderr",
     "output_type": "stream",
     "text": [
      "100%|██████████| 93/93 [12:23<00:00,  8.00s/it]\n"
     ]
    },
    {
     "name": "stdout",
     "output_type": "stream",
     "text": [
      "Loss = 0.34817105531692505\n",
      "Acc = 0.8462803460743802\n",
      "Epoch: 31\n",
      "Entering into train function\n"
     ]
    },
    {
     "name": "stderr",
     "output_type": "stream",
     "text": [
      "100%|██████████| 93/93 [12:03<00:00,  7.78s/it]\n"
     ]
    },
    {
     "name": "stdout",
     "output_type": "stream",
     "text": [
      "Loss = 0.375699907541275\n",
      "Acc = 0.8432881101497934\n",
      "Epoch: 32\n",
      "Entering into train function\n"
     ]
    },
    {
     "name": "stderr",
     "output_type": "stream",
     "text": [
      "100%|██████████| 93/93 [11:50<00:00,  7.64s/it]\n"
     ]
    },
    {
     "name": "stdout",
     "output_type": "stream",
     "text": [
      "Loss = 0.4328402280807495\n",
      "Acc = 0.8358370996900827\n",
      "Epoch: 33\n",
      "Entering into train function\n"
     ]
    },
    {
     "name": "stderr",
     "output_type": "stream",
     "text": [
      "100%|██████████| 93/93 [12:06<00:00,  7.82s/it]\n"
     ]
    },
    {
     "name": "stdout",
     "output_type": "stream",
     "text": [
      "Loss = 0.37191203236579895\n",
      "Acc = 0.8447623966942148\n",
      "Epoch: 34\n",
      "Entering into train function\n"
     ]
    },
    {
     "name": "stderr",
     "output_type": "stream",
     "text": [
      "100%|██████████| 93/93 [12:24<00:00,  8.01s/it]\n"
     ]
    },
    {
     "name": "stdout",
     "output_type": "stream",
     "text": [
      "Loss = 0.34936442971229553\n",
      "Acc = 0.8458872998450413\n",
      "Epoch: 35\n",
      "Entering into train function\n"
     ]
    },
    {
     "name": "stderr",
     "output_type": "stream",
     "text": [
      "100%|██████████| 93/93 [12:11<00:00,  7.87s/it]\n"
     ]
    },
    {
     "name": "stdout",
     "output_type": "stream",
     "text": [
      "Loss = 0.3089505136013031\n",
      "Acc = 0.8476376872417355\n",
      "Epoch: 36\n",
      "Entering into train function\n"
     ]
    },
    {
     "name": "stderr",
     "output_type": "stream",
     "text": [
      "100%|██████████| 93/93 [12:22<00:00,  7.98s/it]\n"
     ]
    },
    {
     "name": "stdout",
     "output_type": "stream",
     "text": [
      "Loss = 0.3151458203792572\n",
      "Acc = 0.8454802911931818\n",
      "Epoch: 37\n",
      "Entering into train function\n"
     ]
    },
    {
     "name": "stderr",
     "output_type": "stream",
     "text": [
      "100%|██████████| 93/93 [14:01<00:00,  9.05s/it]\n"
     ]
    },
    {
     "name": "stdout",
     "output_type": "stream",
     "text": [
      "Loss = 0.3559150993824005\n",
      "Acc = 0.8455171745867769\n",
      "Epoch: 38\n",
      "Entering into train function\n"
     ]
    },
    {
     "name": "stderr",
     "output_type": "stream",
     "text": [
      "100%|██████████| 93/93 [12:39<00:00,  8.16s/it]\n"
     ]
    },
    {
     "name": "stdout",
     "output_type": "stream",
     "text": [
      "Loss = 0.2630380094051361\n",
      "Acc = 0.8447548101756198\n",
      "Epoch: 39\n",
      "Entering into train function\n"
     ]
    },
    {
     "name": "stderr",
     "output_type": "stream",
     "text": [
      "100%|██████████| 93/93 [12:42<00:00,  8.20s/it]\n"
     ]
    },
    {
     "name": "stdout",
     "output_type": "stream",
     "text": [
      "Loss = 0.2771966755390167\n",
      "Acc = 0.8481521984762397\n",
      "Epoch: 40\n",
      "Entering into train function\n"
     ]
    },
    {
     "name": "stderr",
     "output_type": "stream",
     "text": [
      "100%|██████████| 93/93 [12:50<00:00,  8.28s/it]\n"
     ]
    },
    {
     "name": "stdout",
     "output_type": "stream",
     "text": [
      "Loss = 0.27754899859428406\n",
      "Acc = 0.8432410575929752\n",
      "Epoch: 41\n",
      "Entering into train function\n"
     ]
    },
    {
     "name": "stderr",
     "output_type": "stream",
     "text": [
      "100%|██████████| 93/93 [12:30<00:00,  8.07s/it]\n"
     ]
    },
    {
     "name": "stdout",
     "output_type": "stream",
     "text": [
      "Loss = 0.3187815248966217\n",
      "Acc = 0.8466453867510331\n",
      "Epoch: 42\n",
      "Entering into train function\n"
     ]
    },
    {
     "name": "stderr",
     "output_type": "stream",
     "text": [
      "100%|██████████| 93/93 [12:43<00:00,  8.21s/it]\n"
     ]
    },
    {
     "name": "stdout",
     "output_type": "stream",
     "text": [
      "Loss = 0.28928422927856445\n",
      "Acc = 0.845105242768595\n",
      "Epoch: 43\n",
      "Entering into train function\n"
     ]
    },
    {
     "name": "stderr",
     "output_type": "stream",
     "text": [
      "100%|██████████| 93/93 [12:47<00:00,  8.25s/it]\n"
     ]
    },
    {
     "name": "stdout",
     "output_type": "stream",
     "text": [
      "Loss = 0.36306411027908325\n",
      "Acc = 0.8462477401859505\n",
      "Epoch: 44\n",
      "Entering into train function\n"
     ]
    },
    {
     "name": "stderr",
     "output_type": "stream",
     "text": [
      "100%|██████████| 93/93 [12:56<00:00,  8.35s/it]\n"
     ]
    },
    {
     "name": "stdout",
     "output_type": "stream",
     "text": [
      "Loss = 0.2734547257423401\n",
      "Acc = 0.8488446700671488\n",
      "Epoch: 45\n",
      "Entering into train function\n"
     ]
    },
    {
     "name": "stderr",
     "output_type": "stream",
     "text": [
      "100%|██████████| 93/93 [13:00<00:00,  8.39s/it]\n"
     ]
    },
    {
     "name": "stdout",
     "output_type": "stream",
     "text": [
      "Loss = 0.28526321053504944\n",
      "Acc = 0.8471903247675621\n",
      "Epoch: 46\n",
      "Entering into train function\n"
     ]
    },
    {
     "name": "stderr",
     "output_type": "stream",
     "text": [
      "100%|██████████| 93/93 [12:52<00:00,  8.31s/it]\n"
     ]
    },
    {
     "name": "stdout",
     "output_type": "stream",
     "text": [
      "Loss = 0.27154237031936646\n",
      "Acc = 0.8444521565082644\n",
      "Epoch: 47\n",
      "Entering into train function\n"
     ]
    },
    {
     "name": "stderr",
     "output_type": "stream",
     "text": [
      "100%|██████████| 93/93 [12:15<00:00,  7.91s/it]\n"
     ]
    },
    {
     "name": "stdout",
     "output_type": "stream",
     "text": [
      "Loss = 0.2894633710384369\n",
      "Acc = 0.8453993414256198\n",
      "Epoch: 48\n",
      "Entering into train function\n"
     ]
    },
    {
     "name": "stderr",
     "output_type": "stream",
     "text": [
      "100%|██████████| 93/93 [12:20<00:00,  7.96s/it]\n"
     ]
    },
    {
     "name": "stdout",
     "output_type": "stream",
     "text": [
      "Loss = 0.299468070268631\n",
      "Acc = 0.8477417193956611\n",
      "Epoch: 49\n",
      "Entering into train function\n"
     ]
    },
    {
     "name": "stderr",
     "output_type": "stream",
     "text": [
      "100%|██████████| 93/93 [12:19<00:00,  7.95s/it]\n"
     ]
    },
    {
     "name": "stdout",
     "output_type": "stream",
     "text": [
      "Loss = 0.2743155062198639\n",
      "Acc = 0.8489261847882231\n"
     ]
    }
   ],
   "source": [
    "LOSS_VALS_Static = []\n",
    "ACC_VALS_Static = []\n",
    "\n",
    "mu = load_variable('unet_fuzzy_mu_5.txt')\n",
    "sigma = load_variable('unet_fuzzy_sigma_5.txt')\n",
    "unet_static = Fuzzy_UNET(mu=mu,sigma=sigma,in_channels=3, classes=35,static =True, fuzzy = True).to(DEVICE).train()\n",
    "optimizer = optim.Adam(unet_static.parameters(), lr=LEARNING_RATE)\n",
    "loss_function = nn.CrossEntropyLoss().to(DEVICE)\n",
    "\n",
    "for e in range(0, EPOCHS):\n",
    "    torch.cuda.empty_cache()\n",
    "    print(f'Epoch: {e}')\n",
    "    loss_val = train_function(train_set, unet_static, optimizer, loss_function, DEVICE)\n",
    "    LOSS_VALS_Static.append(loss_val) \n",
    "    print(f'Loss = {loss_val}')\n",
    "    torch.cuda.empty_cache()\n",
    "    acc = acc_epoch(test_set, unet_static, DEVICE)\n",
    "    ACC_VALS_Static.append(acc)\n",
    "    print(f'Acc = {acc}')\n",
    "\n",
    "save_variable(unet_static,'unet_static.txt')\n",
    "save_variable(LOSS_VALS_Static,'loss_unet_static.txt')\n",
    "save_variable(ACC_VALS_Static,'acc_unet_static.txt')"
   ]
  },
  {
   "cell_type": "code",
   "execution_count": null,
   "metadata": {},
   "outputs": [],
   "source": [
    "import matplotlib.pyplot as plt\n",
    "\n",
    "def plot_(fuzzy = np.ones(EPOCHS),unet = np.ones(EPOCHS),static = np.ones(EPOCHS), name = \"\"):\n",
    "    plt.plot(range(0,EPOCHS),fuzzy)\n",
    "    plt.plot(range(0,EPOCHS),unet)\n",
    "    plt.plot(range(0,EPOCHS),static)\n",
    "    plt.legend([name + '_Fuzzy',name + '_Origin',name + '_Static'],loc='center right')\n",
    "    plt.title(name)\n",
    "    plt.show()\n"
   ]
  },
  {
   "cell_type": "code",
   "execution_count": null,
   "metadata": {},
   "outputs": [
    {
     "data": {
      "image/png": "[encoded data removed]",
      "text/plain": [
       "<Figure size 640x480 with 1 Axes>"
      ]
     },
     "metadata": {},
     "output_type": "display_data"
    }
   ],
   "source": [
    "loss_fuzzy = load_variable('loss_unet_fuzzy.txt')\n",
    "loss_unet = load_variable('loss_unet.txt')\n",
    "loss_static = load_variable('loss_unet_static.txt')\n",
    "plot_(fuzzy = loss_fuzzy, unet=loss_unet,static=loss_static,name = \"Loss\")"
   ]
  },
  {
   "cell_type": "code",
   "execution_count": null,
   "metadata": {},
   "outputs": [
    {
     "data": {
      "image/png": "[encoded data removed]",
      "text/plain": [
       "<Figure size 640x480 with 1 Axes>"
      ]
     },
     "metadata": {},
     "output_type": "display_data"
    }
   ],
   "source": [
    "acc_fuzzy = load_variable('acc_unet_fuzzy.txt')\n",
    "acc_unet = load_variable('acc_unet.txt')\n",
    "acc_static = load_variable('acc_unet_static.txt')\n",
    "plot_(fuzzy = acc_fuzzy, unet=acc_unet,static=acc_static, name = \"ACC\")"
   ]
  },
  {
   "cell_type": "code",
   "execution_count": null,
   "metadata": {},
   "outputs": [
    {
     "name": "stderr",
     "output_type": "stream",
     "text": [
      "c:\\Users\\ASUS\\.conda\\envs\\pytorch\\lib\\site-packages\\torchvision\\transforms\\functional.py:1603: UserWarning: The default value of the antialias parameter of all the resizing transforms (Resize(), RandomResizedCrop(), etc.) will change from None to True in v0.17, in order to be consistent across the PIL and Tensor backends. To suppress this warning, directly pass antialias=True (recommended, future default), antialias=None (current default, which means False for Tensors and True for PIL), or antialias=False (only works on Tensors - PIL will still use antialiasing). This also applies if you are using the inference transforms from the models weights: update the call to weights.transforms(antialias=True).\n",
      "  warnings.warn(\n"
     ]
    },
    {
     "data": {
      "image/png": "[encoded data removed]",
      "text/plain": [
       "<Figure size 640x480 with 1 Axes>"
      ]
     },
     "metadata": {},
     "output_type": "display_data"
    }
   ],
   "source": [
    "def fuzzy_parameter_test():\n",
    "    unet_fuzzy = load_variable('unet_fuzzy.txt')\n",
    "    ACC = []\n",
    "    for i in range(0,EPOCHS):\n",
    "        mu = load_variable('unet_fuzzy_mu_' + str(i) + '.txt')\n",
    "        sigma = load_variable('unet_fuzzy_sigma_' + str(i) + '.txt')\n",
    "        unet_fuzzy.fuzzy.mu = mu\n",
    "        unet_fuzzy.fuzzy.sigma = sigma\n",
    "        ACC.append(acc_epoch(test_set,unet_fuzzy,DEVICE))\n",
    "    plt.plot(range(0,EPOCHS),ACC)\n",
    "    plt.title('Different Fuzzy Layer Accuracy')\n",
    "    plt.show()\n",
    "\n",
    "fuzzy_parameter_test()"
   ]
  },
  {
   "cell_type": "code",
   "execution_count": null,
   "metadata": {},
   "outputs": [
    {
     "data": {
      "image/png": "[encoded data removed]",
      "text/plain": [
       "<Figure size 1500x600 with 2 Axes>"
      ]
     },
     "metadata": {},
     "output_type": "display_data"
    }
   ],
   "source": [
    "def plot_parameter():\n",
    "    plt.figure(figsize=(15,6))\n",
    "    mu_1 = []\n",
    "    mu_2 = []\n",
    "    mu_3 = []\n",
    "\n",
    "    sigma_1 = []\n",
    "    sigma_2 = []\n",
    "    sigma_3 = []\n",
    "    for i in range(0,EPOCHS):\n",
    "        mu_ = load_variable('unet_fuzzy_mu_' + str(i) + '.txt')\n",
    "        mu_1.append(mu_[0][0].to('cpu').detach().numpy())\n",
    "        mu_2.append(mu_[1][0].to('cpu').detach().numpy())\n",
    "        mu_3.append(mu_[2][0].to('cpu').detach().numpy())\n",
    "\n",
    "        sigma_ = load_variable('unet_fuzzy_sigma_' + str(i) + '.txt')\n",
    "        sigma_1.append(sigma_[0][0].to('cpu').detach().numpy())\n",
    "        sigma_2.append(sigma_[0][1].to('cpu').detach().numpy())\n",
    "        sigma_3.append(sigma_[0][2].to('cpu').detach().numpy())\n",
    "    plt.subplot(1,2,1)\n",
    "    ax1 = plt.subplot(121)\n",
    "    ax1.plot(range(0,EPOCHS),mu_1)\n",
    "    ax1.plot(range(0,EPOCHS),mu_2)\n",
    "    ax1.plot(range(0,EPOCHS),mu_3)\n",
    "    ax1.set_title('Mu vs Epoch')\n",
    "    ax2 = plt.subplot(122)\n",
    "    ax2.plot(range(0,EPOCHS),sigma_1)\n",
    "    ax2.plot(range(0,EPOCHS),sigma_2)\n",
    "    ax2.plot(range(0,EPOCHS),sigma_3)\n",
    "    ax2.set_title('Sigma vs Epoch')\n",
    "    plt.show()\n",
    "\n",
    "plot_parameter()"
   ]
  }
 ],
 "metadata": {
  "kernelspec": {
   "display_name": "pytorch",
   "language": "python",
   "name": "python3"
  },
  "language_info": {
   "codemirror_mode": {
    "name": "ipython",
    "version": 3
   },
   "file_extension": ".py",
   "mimetype": "text/x-python",
   "name": "python",
   "nbconvert_exporter": "python",
   "pygments_lexer": "ipython3",
   "version": "3.9.17"
  },
  "orig_nbformat": 4
 },
 "nbformat": 4,
 "nbformat_minor": 2
}
